{
 "cells": [
  {
   "cell_type": "markdown",
   "id": "pf5KKjH8omcU",
   "metadata": {
    "id": "pf5KKjH8omcU"
   },
   "source": [
    "# **Demo: Langchain Agents**"
   ]
  },
  {
   "cell_type": "markdown",
   "id": "olGHNznfVRjO",
   "metadata": {
    "id": "olGHNznfVRjO"
   },
   "source": [
    "# **Description:**\n",
    "In this activity, you will learn how to utilize LangChain agents. You will grasp the process of creating and initializing an agent, loading tools, and employing the agent to pose questions and obtain answers.\n"
   ]
  },
  {
   "cell_type": "markdown",
   "id": "JbJGoJNnosUM",
   "metadata": {
    "id": "JbJGoJNnosUM"
   },
   "source": [
    "# **Steps to Perform:**\n",
    "\n",
    "1. Import the Necessary Modules\n",
    "2. Initialize the Chat Model\n",
    "3. Load the Tools\n",
    "4. Initialize Agent\n",
    "5. Use Agent to Ask Questions\n",
    "6. Use Agent to Ask Another Question\n"
   ]
  },
  {
   "cell_type": "markdown",
   "id": "a2hHxVaPVfmz",
   "metadata": {
    "id": "a2hHxVaPVfmz"
   },
   "source": [
    "# **Step 1: Import the Necessary Modules**\n",
    "\n"
   ]
  },
  {
   "cell_type": "code",
   "execution_count": 1,
   "id": "d9b76cd5-16e2-4c0c-8872-aaa4855b5bdf",
   "metadata": {
    "id": "d9b76cd5-16e2-4c0c-8872-aaa4855b5bdf"
   },
   "outputs": [],
   "source": [
    "from langchain.agents import load_tools, initialize_agent\n",
    "from langchain.agents import AgentType\n",
    "from langchain.chat_models import ChatOpenAI"
   ]
  },
  {
   "cell_type": "code",
   "execution_count": 2,
   "id": "b75dd901-8949-4783-a1c5-525f39fad782",
   "metadata": {},
   "outputs": [
    {
     "name": "stdout",
     "output_type": "stream",
     "text": [
      "Defaulting to user installation because normal site-packages is not writeable\n",
      "Requirement already satisfied: numexpr in /usr/local/lib/python3.10/site-packages (2.8.4)\n",
      "Requirement already satisfied: wikipedia in /voc/work/.local/lib/python3.10/site-packages (1.4.0)\n",
      "Collecting google-search-results\n",
      "  Downloading google_search_results-2.4.2.tar.gz (18 kB)\n",
      "  Preparing metadata (setup.py) ... \u001b[?25ldone\n",
      "\u001b[?25hRequirement already satisfied: numpy>=1.13.3 in /voc/work/.local/lib/python3.10/site-packages (from numexpr) (1.24.3)\n",
      "Requirement already satisfied: beautifulsoup4 in /usr/local/lib/python3.10/site-packages (from wikipedia) (4.12.2)\n",
      "Requirement already satisfied: requests<3.0.0,>=2.0.0 in /voc/work/.local/lib/python3.10/site-packages (from wikipedia) (2.30.0)\n",
      "Requirement already satisfied: charset-normalizer<4,>=2 in /usr/local/lib/python3.10/site-packages (from requests<3.0.0,>=2.0.0->wikipedia) (3.3.2)\n",
      "Requirement already satisfied: idna<4,>=2.5 in /usr/local/lib/python3.10/site-packages (from requests<3.0.0,>=2.0.0->wikipedia) (3.6)\n",
      "Requirement already satisfied: urllib3<3,>=1.21.1 in /usr/local/lib/python3.10/site-packages (from requests<3.0.0,>=2.0.0->wikipedia) (1.26.18)\n",
      "Requirement already satisfied: certifi>=2017.4.17 in /usr/local/lib/python3.10/site-packages (from requests<3.0.0,>=2.0.0->wikipedia) (2023.11.17)\n",
      "Requirement already satisfied: soupsieve>1.2 in /usr/local/lib/python3.10/site-packages (from beautifulsoup4->wikipedia) (2.5)\n",
      "Building wheels for collected packages: google-search-results\n",
      "  Building wheel for google-search-results (setup.py) ... \u001b[?25ldone\n",
      "\u001b[?25h  Created wheel for google-search-results: filename=google_search_results-2.4.2-py3-none-any.whl size=32003 sha256=37847cd7c274dd62c3fc1f07fa583147e8f2163ae0ec70055f05b6ce33909c63\n",
      "  Stored in directory: /voc/work/.cache/pip/wheels/d3/b2/c3/03302d12bb44a2cdff3c9371f31b72c0c4e84b8d2285eeac53\n",
      "Successfully built google-search-results\n",
      "Installing collected packages: google-search-results\n",
      "Successfully installed google-search-results-2.4.2\n",
      "\n",
      "\u001b[1m[\u001b[0m\u001b[34;49mnotice\u001b[0m\u001b[1;39;49m]\u001b[0m\u001b[39;49m A new release of pip is available: \u001b[0m\u001b[31;49m23.3.1\u001b[0m\u001b[39;49m -> \u001b[0m\u001b[32;49m25.0.1\u001b[0m\n",
      "\u001b[1m[\u001b[0m\u001b[34;49mnotice\u001b[0m\u001b[1;39;49m]\u001b[0m\u001b[39;49m To update, run: \u001b[0m\u001b[32;49mpip install --upgrade pip\u001b[0m\n"
     ]
    }
   ],
   "source": [
    "!pip install numexpr wikipedia google-search-results"
   ]
  },
  {
   "cell_type": "markdown",
   "id": "Gm_WS41tVq4A",
   "metadata": {
    "id": "Gm_WS41tVq4A"
   },
   "source": [
    "# **Step 2: Initialize the Chat Model**\n",
    "\n",
    "\n",
    "\n"
   ]
  },
  {
   "cell_type": "code",
   "execution_count": 3,
   "id": "52eae41c-89d8-4523-9745-9d64d863422f",
   "metadata": {},
   "outputs": [],
   "source": [
    "serpapi_key = \"93066f5581a12839e7ba8b60605c78fa739ccdd1caf99d3f03a956788a338b70\""
   ]
  },
  {
   "cell_type": "markdown",
   "id": "H-6O-EmJVweb",
   "metadata": {
    "id": "H-6O-EmJVweb"
   },
   "source": [
    "# **Step 3: Load the Tools**\n",
    "\n",
    "\n",
    "*   Load **llm-math** for math operations and **wikipedia** for accessing Wikipedia data\n",
    "\n",
    "\n",
    "\n"
   ]
  },
  {
   "cell_type": "code",
   "execution_count": 4,
   "id": "50dfe90c-6291-4b6d-8845-be16f7fca6e3",
   "metadata": {},
   "outputs": [],
   "source": [
    "llm_model = ChatOpenAI(temperature=0.0)"
   ]
  },
  {
   "cell_type": "code",
   "execution_count": 5,
   "id": "3ab99081-3df3-42af-adec-51a770c959be",
   "metadata": {
    "id": "3ab99081-3df3-42af-adec-51a770c959be"
   },
   "outputs": [],
   "source": [
    "tools = load_tools([\"llm-math\",\"wikipedia\",\"serpapi\"],serpapi_api_key=serpapi_key,llm=llm_model)\n"
   ]
  },
  {
   "cell_type": "markdown",
   "id": "Rf37LLxoV2-5",
   "metadata": {
    "id": "Rf37LLxoV2-5"
   },
   "source": [
    "# **Step 4: Initialize Agent**\n",
    "\n",
    "\n",
    "*   Initialize the agent with the tools loaded, the chat model, and specify the agent type as **CHAT_ZERO_SHOT_REACT_DESCRIPTION**\n"
   ]
  },
  {
   "cell_type": "code",
   "execution_count": 6,
   "id": "76acced2-8058-447f-b28e-d27842bd14b4",
   "metadata": {
    "id": "76acced2-8058-447f-b28e-d27842bd14b4"
   },
   "outputs": [],
   "source": [
    "agent= initialize_agent(\n",
    "    tools,\n",
    "    llm_model,\n",
    "    agent=AgentType.CHAT_ZERO_SHOT_REACT_DESCRIPTION,\n",
    "    handle_parsing_errors=True,\n",
    "    verbose = True)"
   ]
  },
  {
   "cell_type": "markdown",
   "id": "7GPb4P2GV8kc",
   "metadata": {
    "id": "7GPb4P2GV8kc"
   },
   "source": [
    "# **Step 5: Use Agent to Ask Questions**\n",
    "\n",
    "\n"
   ]
  },
  {
   "cell_type": "code",
   "execution_count": 7,
   "id": "55257b94-7502-4a6c-b091-244155166d30",
   "metadata": {
    "id": "55257b94-7502-4a6c-b091-244155166d30",
    "outputId": "e80c8078-1b42-44f5-b77d-11b99d7ad2e5"
   },
   "outputs": [
    {
     "name": "stdout",
     "output_type": "stream",
     "text": [
      "\n",
      "\n",
      "\u001b[1m> Entering new AgentExecutor chain...\u001b[0m\n",
      "\u001b[32;1m\u001b[1;3mThought: We can use the Calculator tool to find the square root of 16.\n",
      "Action:\n",
      "```\n",
      "{\n",
      "  \"action\": \"Calculator\",\n",
      "  \"action_input\": \"square root of 16\"\n",
      "}\n",
      "```\u001b[0m\n",
      "Observation: \u001b[36;1m\u001b[1;3mAnswer: 4.0\u001b[0m\n",
      "Thought:\u001b[32;1m\u001b[1;3mFinal Answer: The square root of 16 is 4.\u001b[0m\n",
      "\n",
      "\u001b[1m> Finished chain.\u001b[0m\n"
     ]
    },
    {
     "data": {
      "text/plain": [
       "{'input': 'What is the square root of 16?',\n",
       " 'output': 'The square root of 16 is 4.'}"
      ]
     },
     "execution_count": 7,
     "metadata": {},
     "output_type": "execute_result"
    }
   ],
   "source": [
    "agent(\"What is the square root of 16?\")"
   ]
  },
  {
   "cell_type": "markdown",
   "id": "6L90rCVGWEN0",
   "metadata": {
    "id": "6L90rCVGWEN0"
   },
   "source": [
    "# **Step 6: Use Agent to Ask Another Question**\n",
    "\n",
    "\n",
    "\n"
   ]
  },
  {
   "cell_type": "code",
   "execution_count": 8,
   "id": "3deb286e-cfe6-46ee-ad0d-534e238b6859",
   "metadata": {
    "colab": {
     "base_uri": "https://localhost:8080/",
     "height": 193
    },
    "id": "3deb286e-cfe6-46ee-ad0d-534e238b6859",
    "outputId": "ff9ce793-63fb-42f1-80ad-1bd61aaf30f9"
   },
   "outputs": [
    {
     "name": "stdout",
     "output_type": "stream",
     "text": [
      "\n",
      "\n",
      "\u001b[1m> Entering new AgentExecutor chain...\u001b[0m\n",
      "\u001b[32;1m\u001b[1;3mThought: I should use Wikipedia to find out what Alan Turing is famous for.\n",
      "\n",
      "Action:\n",
      "```\n",
      "{\n",
      "  \"action\": \"Wikipedia\",\n",
      "  \"action_input\": \"Alan Turing\"\n",
      "}\n",
      "```\u001b[0m\n",
      "Observation: \u001b[33;1m\u001b[1;3mPage: Alan Turing\n",
      "Summary: Alan Mathison Turing (; 23 June 1912 – 7 June 1954) was an English mathematician, computer scientist, logician, cryptanalyst, philosopher and theoretical biologist. He was highly influential in the development of theoretical computer science, providing a formalisation of the concepts of algorithm and computation with the Turing machine, which can be considered a model of a general-purpose computer. Turing is widely considered to be the father of theoretical computer science.\n",
      "Born in London, Turing was raised in southern England. He graduated from King's College, Cambridge, and in 1938, earned a doctorate degree from Princeton University. During World War II, Turing worked for the Government Code and Cypher School at Bletchley Park, Britain's codebreaking centre that produced Ultra intelligence. He led Hut 8, the section responsible for German naval cryptanalysis. Turing devised techniques for speeding the breaking of German ciphers, including improvements to the pre-war Polish bomba method, an electromechanical machine that could find settings for the Enigma machine. He played a crucial role in cracking intercepted messages that enabled the Allies to defeat the Axis powers in many engagements, including the Battle of the Atlantic.\n",
      "After the war, Turing worked at the National Physical Laboratory, where he designed the Automatic Computing Engine, one of the first designs for a stored-program computer. In 1948, Turing joined Max Newman's Computing Machine Laboratory at the Victoria University of Manchester, where he helped develop the Manchester computers and became interested in mathematical biology. Turing wrote on the chemical basis of morphogenesis and predicted oscillating chemical reactions such as the Belousov–Zhabotinsky reaction, first observed in the 1960s. Despite these accomplishments, he was never fully recognised during his lifetime because much of his work was covered by the Official Secrets Act.\n",
      "In 1952, Turing was prosecuted for homosexual acts. He accepted hormone treatment, a procedure commonly referred to as chemical castration, as an alternative to prison. Turing died on 7 June 1954, aged 41, from cyanide poisoning. An inquest determined his death as suicide, but the evidence is also consistent with accidental poisoning. \n",
      "Following a campaign in 2009, British prime minister Gordon Brown made an official public apology for \"the appalling way [Turing] was treated\". Queen Elizabeth II granted a pardon in 2013. The term \"Alan Turing law\" is used informally to refer to a 2017 law in the UK that retroactively pardoned men cautioned or convicted under historical legislation that outlawed homosexual acts.\n",
      "Turing left an extensive legacy in mathematics and computing which has become widely recognised with statues and many things named after him, including an annual award for computing innovation. His portrait appears on the Bank of England £50 note, first released on 23 June 2021 to coincide with his birthday. The audience vote in a 2019 BBC series named Turing the greatest person of the 20th century.\n",
      "\n",
      "Page: Turing Award\n",
      "Summary: The ACM A. M. Turing Award is an annual prize given by the Association for Computing Machinery (ACM) for contributions of lasting and major technical importance to computer science. It is generally recognized as the highest distinction in  the field of computer science and is often referred to as the \"Nobel Prize of Computing\".\n",
      "The award is named after Alan Turing, who was a British mathematician and reader in mathematics at the University of Manchester. Turing is often credited as being the founder of theoretical computer science and artificial intelligence, and a key contributor to the Allied cryptanalysis of the Enigma cipher during World War II. From 2007 to 2013, the award was accompanied by a prize of US$250,000, with financial support provided by Intel and Google. Since 2014, the award has been accompanied by a prize of US$1 million, with financial support pr\u001b[0m\n",
      "Thought:\u001b[32;1m\u001b[1;3mCould not parse LLM output: Final Answer\u001b[0m\n",
      "Observation: Invalid or incomplete response\n",
      "Thought:\u001b[32;1m\u001b[1;3mI will try to summarize what Alan Turing is famous for based on the information provided in the Wikipedia search result.\n",
      "\n",
      "Action:\n",
      "```\n",
      "{\n",
      "  \"action\": \"Wikipedia\",\n",
      "  \"action_input\": \"Alan Turing\"\n",
      "}\n",
      "```\u001b[0m\n",
      "Observation: \u001b[33;1m\u001b[1;3mPage: Alan Turing\n",
      "Summary: Alan Mathison Turing (; 23 June 1912 – 7 June 1954) was an English mathematician, computer scientist, logician, cryptanalyst, philosopher and theoretical biologist. He was highly influential in the development of theoretical computer science, providing a formalisation of the concepts of algorithm and computation with the Turing machine, which can be considered a model of a general-purpose computer. Turing is widely considered to be the father of theoretical computer science.\n",
      "Born in London, Turing was raised in southern England. He graduated from King's College, Cambridge, and in 1938, earned a doctorate degree from Princeton University. During World War II, Turing worked for the Government Code and Cypher School at Bletchley Park, Britain's codebreaking centre that produced Ultra intelligence. He led Hut 8, the section responsible for German naval cryptanalysis. Turing devised techniques for speeding the breaking of German ciphers, including improvements to the pre-war Polish bomba method, an electromechanical machine that could find settings for the Enigma machine. He played a crucial role in cracking intercepted messages that enabled the Allies to defeat the Axis powers in many engagements, including the Battle of the Atlantic.\n",
      "After the war, Turing worked at the National Physical Laboratory, where he designed the Automatic Computing Engine, one of the first designs for a stored-program computer. In 1948, Turing joined Max Newman's Computing Machine Laboratory at the Victoria University of Manchester, where he helped develop the Manchester computers and became interested in mathematical biology. Turing wrote on the chemical basis of morphogenesis and predicted oscillating chemical reactions such as the Belousov–Zhabotinsky reaction, first observed in the 1960s. Despite these accomplishments, he was never fully recognised during his lifetime because much of his work was covered by the Official Secrets Act.\n",
      "In 1952, Turing was prosecuted for homosexual acts. He accepted hormone treatment, a procedure commonly referred to as chemical castration, as an alternative to prison. Turing died on 7 June 1954, aged 41, from cyanide poisoning. An inquest determined his death as suicide, but the evidence is also consistent with accidental poisoning. \n",
      "Following a campaign in 2009, British prime minister Gordon Brown made an official public apology for \"the appalling way [Turing] was treated\". Queen Elizabeth II granted a pardon in 2013. The term \"Alan Turing law\" is used informally to refer to a 2017 law in the UK that retroactively pardoned men cautioned or convicted under historical legislation that outlawed homosexual acts.\n",
      "Turing left an extensive legacy in mathematics and computing which has become widely recognised with statues and many things named after him, including an annual award for computing innovation. His portrait appears on the Bank of England £50 note, first released on 23 June 2021 to coincide with his birthday. The audience vote in a 2019 BBC series named Turing the greatest person of the 20th century.\n",
      "\n",
      "Page: Turing Award\n",
      "Summary: The ACM A. M. Turing Award is an annual prize given by the Association for Computing Machinery (ACM) for contributions of lasting and major technical importance to computer science. It is generally recognized as the highest distinction in  the field of computer science and is often referred to as the \"Nobel Prize of Computing\".\n",
      "The award is named after Alan Turing, who was a British mathematician and reader in mathematics at the University of Manchester. Turing is often credited as being the founder of theoretical computer science and artificial intelligence, and a key contributor to the Allied cryptanalysis of the Enigma cipher during World War II. From 2007 to 2013, the award was accompanied by a prize of US$250,000, with financial support provided by Intel and Google. Since 2014, the award has been accompanied by a prize of US$1 million, with financial support pr\u001b[0m\n",
      "Thought:\u001b[32;1m\u001b[1;3mFinal Answer: Alan Turing is famous for his significant contributions to theoretical computer science, including the formalization of the concepts of algorithm and computation with the Turing machine, which is considered a model of a general-purpose computer. He is widely regarded as the father of theoretical computer science.\u001b[0m\n",
      "\n",
      "\u001b[1m> Finished chain.\u001b[0m\n"
     ]
    }
   ],
   "source": [
    "question = \"Alan Turing was a British mathematician and computer scientist, what is he famous for?\"\n",
    "result = agent(question)"
   ]
  },
  {
   "cell_type": "markdown",
   "id": "JLUHYdnGWLps",
   "metadata": {
    "id": "JLUHYdnGWLps"
   },
   "source": [
    "# **Conclusion**\n",
    "By the end of this activity, you have a clear understanding of how to use LangChain agents. You’ve learned how to create and initialize an agent, load tools, and use the agent to ask questions and get answers.\n"
   ]
  },
  {
   "cell_type": "code",
   "execution_count": 9,
   "id": "49370c9c-8afe-4869-b2c5-ab57b09b4a76",
   "metadata": {},
   "outputs": [
    {
     "name": "stdout",
     "output_type": "stream",
     "text": [
      "\n",
      "\n",
      "\u001b[1m> Entering new AgentExecutor chain...\u001b[0m\n",
      "\u001b[32;1m\u001b[1;3mThought: I should use the Search tool to find the price of gold yesterday in the US.\n",
      "\n",
      "Action:\n",
      "```\n",
      "{\n",
      "  \"action\": \"Search\",\n",
      "  \"action_input\": \"price of gold on [yesterday's date] in the US\"\n",
      "}\n",
      "```\n",
      "\n",
      "\u001b[0m\n",
      "Observation: \u001b[38;5;200m\u001b[1;3mGold Price in US Dollars is at a current level of 2874.70, up from 2839.00 the previous market day and up from 2028.70 one year ago.\u001b[0m\n",
      "Thought:\u001b[32;1m\u001b[1;3mFinal Answer: Gold price yesterday in the US was $2839.00.\u001b[0m\n",
      "\n",
      "\u001b[1m> Finished chain.\u001b[0m\n"
     ]
    },
    {
     "data": {
      "text/plain": [
       "'Gold price yesterday in the US was $2839.00.'"
      ]
     },
     "execution_count": 9,
     "metadata": {},
     "output_type": "execute_result"
    }
   ],
   "source": [
    "agent.run(\"what was the price of gold yesterday in the US\")"
   ]
  },
  {
   "cell_type": "code",
   "execution_count": 10,
   "id": "dd1708fa-d685-4d99-885b-a1d820094a12",
   "metadata": {},
   "outputs": [
    {
     "name": "stdout",
     "output_type": "stream",
     "text": [
      "\n",
      "\n",
      "\u001b[1m> Entering new AgentExecutor chain...\u001b[0m\n",
      "\u001b[32;1m\u001b[1;3mThought: This is a current event question, so I should use the Search tool to find the most up-to-date information.\n",
      "\n",
      "Action:\n",
      "```\n",
      "{\n",
      "  \"action\": \"Search\",\n",
      "  \"action_input\": \"current president of USA\"\n",
      "}\n",
      "```\u001b[0m\n",
      "Observation: \u001b[38;5;200m\u001b[1;3mDonald Trump\u001b[0m\n",
      "Thought:\u001b[32;1m\u001b[1;3mI made a mistake in my previous response. Let me correct that.\n",
      "Action:\n",
      "```\n",
      "{\n",
      "  \"action\": \"Search\",\n",
      "  \"action_input\": \"current president of USA\"\n",
      "}\n",
      "```\n",
      "\u001b[0m\n",
      "Observation: \u001b[38;5;200m\u001b[1;3mDonald Trump\u001b[0m\n",
      "Thought:\u001b[32;1m\u001b[1;3mFinal Answer: Donald Trump\u001b[0m\n",
      "\n",
      "\u001b[1m> Finished chain.\u001b[0m\n"
     ]
    },
    {
     "data": {
      "text/plain": [
       "'Donald Trump'"
      ]
     },
     "execution_count": 10,
     "metadata": {},
     "output_type": "execute_result"
    }
   ],
   "source": [
    "agent.run(\"Who is the current president of USA\")"
   ]
  },
  {
   "cell_type": "code",
   "execution_count": 16,
   "id": "f6a2e40d-297e-4c26-9f7f-5f10476a88e5",
   "metadata": {},
   "outputs": [
    {
     "name": "stdout",
     "output_type": "stream",
     "text": [
      "\n",
      "\n",
      "\u001b[1m> Entering new AgentExecutor chain...\u001b[0m\n",
      "\u001b[32;1m\u001b[1;3mThought: I can use a search engine to find the historical price of Bitcoin on December 31, 2020.\n",
      "\n",
      "Action:\n",
      "```\n",
      "{\n",
      "  \"action\": \"Search\",\n",
      "  \"action_input\": \"Bitcoin price on December 31, 2020\"\n",
      "}\n",
      "```\n",
      "\n",
      "\u001b[0m\n",
      "Observation: \u001b[38;5;200m\u001b[1;3m{'type': 'organic_result', 'title': 'Bitcoin USD (BTC-USD) Stock Historical Prices & Data ...', 'source': 'Yahoo Finance', 'description': 'Bitcoin USD (BTC-USD)'}\u001b[0m\n",
      "Thought:\u001b[32;1m\u001b[1;3mAction:\n",
      "```\n",
      "{\n",
      "  \"action\": \"Search\",\n",
      "  \"action_input\": \"Bitcoin price on December 31, 2020 Yahoo Finance\"\n",
      "}\n",
      "```\u001b[0m\n",
      "Observation: \u001b[38;5;200m\u001b[1;3m['Discover historical prices for BTC-USD stock on Yahoo Finance. View daily, weekly or ... Dec 31, 2024, 92,643.25, 96,090.60, 91,914.03, 93,429.20, 93,429.20 ...', 'Discover historical prices for BTC-USD stock on Yahoo Finance. View daily, weekly or ... Dec 31, 2020, 28,841.57, 29,244.88, 28,201.99, 29,001.72, 29,001.72 ...', 'Discover historical prices for BTC-USD stock on Yahoo Finance. View daily, weekly or ... Dec 31, 2020, 28,841.57, 29,244.88, 28,201.99, 29,001.72, 29,001.72 ...', 'Bitcoin USD (BTC-USD). Follow. 97,699.05. +1,798.69. +(1.88%). As of 12:17:00 AM UTC. Market Open. Data provided by. Dec 31, 2020 - Dec 31, 2020. Historical ...', 'Discover historical prices for BTC-USD stock on Yahoo Finance. View daily, weekly or monthly format back to when Bitcoin USD stock was issued.', 'Discover historical prices for BTC-USD stock on Yahoo Finance. View daily, weekly or monthly formats back to when Bitcoin USD stock was issued.', 'Discover historical prices for BTC-USD stock on Yahoo Finance. View daily, weekly or ... Dec 31, 2020, 28,841.57, 29,244.88, 28,201.99, 29,001.72, 29,001.72 ...', 'Discover historical prices for BTC-USD stock on Yahoo Finance. View daily, weekly or ... Dec 31, 2020, 28,841.57, 29,244.88, 28,201.99, 29,001.72, 29,001.72 ...', 'Discover historical prices for BTC-USD stock on Yahoo Finance. View daily, weekly or monthly format back to when Bitcoin USD stock was issued.']\u001b[0m\n",
      "Thought:\u001b[32;1m\u001b[1;3mAction:\n",
      "```\n",
      "{\n",
      "  \"action\": \"Wikipedia\",\n",
      "  \"action_input\": \"Bitcoin\"\n",
      "}\n",
      "```\u001b[0m\n",
      "Observation: \u001b[33;1m\u001b[1;3mPage: Bitcoin\n",
      "Summary: Bitcoin (abbreviation: BTC; sign: ₿) is the first decentralized cryptocurrency. Based on a free-market ideology, bitcoin was invented in 2008 by Satoshi Nakamoto, an unknown entity (person or persons). Use of bitcoin as a currency began in 2009, with the release of its open-source implementation.: ch. 1  In 2021, El Salvador adopted it as legal tender. It is mostly seen as an investment and has been described by some scholars as an economic bubble. As bitcoin is pseudonymous, its use by criminals has attracted the attention of regulators, leading to its ban by several countries as of 2021.\n",
      "Bitcoin works through the collaboration of computers, each of which acts as a node in the peer-to-peer bitcoin network. Each node maintains an independent copy of a public distributed ledger of transactions, called a blockchain, without central oversight. Transactions are validated through the use of cryptography, making it practically impossible for one person to spend another person's bitcoin, as long as the owner of the bitcoin keeps certain sensitive data secret.: ch. 5 \n",
      "Consensus between nodes about the content of the blockchain is achieved using a computationally intensive process based on proof of work, called mining, which is typically performed by purpose-built computers called miners. These miners don't directly act as nodes, but do communicate with nodes. The mining process is primarily intended to prevent double-spending and get all nodes to agree on the content of the blockchain, but it also has desirable side-effects such as making it infeasible for adversaries to stifle valid transactions or alter the historical record of transactions, since doing so generally requires the adversary to have access to more mining power than the rest of the network combined.: ch. 12  It is also used to regulate the rate at which new bitcoin is issued and enters circulation. Mining consumes large quantities of electricity and has been criticized for its environmental impact.\n",
      "\n",
      "Page: History of bitcoin\n",
      "Summary: Bitcoin is a cryptocurrency, a digital asset that uses cryptography to control its creation and management rather than relying on central authorities. Originally designed as a medium of exchange, Bitcoin is now primarily regarded as a store of value. The history of bitcoin started with its invention and implementation by Satoshi Nakamoto, who integrated many existing ideas from the cryptography community. Over the course of bitcoin's history, it has undergone rapid growth to become a significant store of value both on- and offline. From the mid-2010s, some businesses began accepting bitcoin in addition to traditional currencies.\n",
      "\n",
      "Page: Cryptocurrency\n",
      "Summary: A cryptocurrency, crypto-currency, or colloquially, crypto, is a digital currency designed to work through a computer network that is not reliant on any central authority, such as a government or bank, to uphold or maintain it. \n",
      "Individual coin ownership records are stored in a digital ledger or blockchain, which is a computerized database that uses a consensus mechanism to secure transaction records, control the creation of additional coins, and verify the transfer of coin ownership. The two most common consensus mechanisms are proof of work and proof of stake. Despite the name, which has come to describe many of the fungible blockchain tokens that have been created, cryptocurrencies are not considered to be currencies in the traditional sense, and varying legal treatments have been applied to them in various jurisdicitons, including classification as commodities, securities, and currencies. Cryptocurrencies are generally viewed as a distinct asset class in practice.\n",
      "The first cryptocurrency was bitcoin, which was first released as open-source software in 2009. As of June 2023, there were more than 25,000 other cryptocurrencies in the marketplace, of which more than 40 had a market capitalization exceeding $1 billion.\u001b[0m\n",
      "Thought:\u001b[32;1m\u001b[1;3mFinal Answer: The price of Bitcoin on December 31, 2020, was $29,001.72.\u001b[0m\n",
      "\n",
      "\u001b[1m> Finished chain.\u001b[0m\n"
     ]
    },
    {
     "data": {
      "text/plain": [
       "'The price of Bitcoin on December 31, 2020, was $29,001.72.'"
      ]
     },
     "execution_count": 16,
     "metadata": {},
     "output_type": "execute_result"
    }
   ],
   "source": [
    "agent.run(\"What was the price of bitcoin on 31st December 2020 ?\")"
   ]
  },
  {
   "cell_type": "code",
   "execution_count": 22,
   "id": "f8542c4c-6481-4d08-aeb3-6f3b30758628",
   "metadata": {},
   "outputs": [
    {
     "name": "stdout",
     "output_type": "stream",
     "text": [
      "\n",
      "\n",
      "\u001b[1m> Entering new AgentExecutor chain...\u001b[0m\n",
      "\u001b[32;1m\u001b[1;3mThought: I will need to search for the price of Bitcoin yesterday.\n",
      "\n",
      "Action:\n",
      "```\n",
      "{\n",
      "  \"action\": \"Search\",\n",
      "  \"action_input\": \"Bitcoin price on [yesterday's date]\"\n",
      "}\n",
      "```\n",
      "\n",
      "\u001b[0m\n",
      "Observation: \u001b[38;5;200m\u001b[1;3m['Discover historical prices for BTC-USD stock on Yahoo Finance. View daily, weekly or monthly format back to when Bitcoin USD stock was issued.', 'Historical data for the Bitcoin prices - Bitcoin price history viewable in daily, weekly or monthly time intervals.', 'Bitcoin Price is at a current level of 97488.48, up from 96561.66 yesterday and up from 51958.23 one year ago. This is a change of 0.96% from yesterday and ...', 'The price of Bitcoin (BTC) is $96318.7687373561 today as of Feb 13, 2025, 3:59 pm EST, with a 24-hour trading volume of $247344.54363359.', 'Check out the current Bitcoin (BTC) price, market cap, historical volatility, and buy Bitcoin on bitFlyer today with as little as $1!', 'The closing price for Bitcoin (BTC) yesterday was $104,746.85. It was down 0.1% for the day. The latest price is $104,818.69.', 'Check the Bitcoin price history from each day since it was listed on CoinMarketCap. Fiat currency selection. BTC closing prices. Daily, weekly and monthly ...', \"The price of Bitcoin has decreased by 0.14% in the last hour and increased by 0.98% in the past 24 hours. Bitcoin's price has also fallen by 1.06% in the past ...\", \"... today's CoinDesk Bitcoin Price Index (XBX) stock price ... DATE, OPEN, HIGH, LOW, CLOSE. 02/14/25, 96285, 98874, 96281, 97216. 02/13/25, 97050, 98099, 95237 ...\", 'Get free historical data for the BTC USD (Bitcoin US Dollar Bitfinex) currency pair, viewable in daily, weekly or monthly time intervals.']\u001b[0m\n",
      "Thought:\u001b[32;1m\u001b[1;3mAction:\n",
      "```\n",
      "{\n",
      "  \"action\": \"Search\",\n",
      "  \"action_input\": \"Bitcoin closing price on [yesterday's date]\"\n",
      "}\n",
      "```\u001b[0m\n",
      "Observation: \u001b[38;5;200m\u001b[1;3m['Discover historical prices for BTC-USD stock on Yahoo Finance. View daily, weekly or monthly format back to when Bitcoin USD stock was issued.', 'Historical data for the Bitcoin prices - Bitcoin price history viewable in daily, weekly or monthly time intervals.', 'Bitcoin Price is at a current level of 97488.48, up from 96561.66 yesterday and up from 51958.23 one year ago. This is a change of 0.96% from yesterday and ...', 'Check the Bitcoin price history from each day since it was listed on CoinMarketCap. Fiat currency selection. BTC closing prices. Daily, weekly and monthly ...', 'The price of Bitcoin (BTC) is $96318.7687373561 today as of Feb 13, 2025, 3:59 pm EST, with a 24-hour trading volume of $247344.54363359.', 'Get free historical data for the BTC USD (Bitcoin US Dollar Bitfinex) currency pair, viewable in daily, weekly or monthly time intervals.', 'The closing price for Bitcoin (BTC) yesterday was $104,746.85. It was down 0.1% for the day. The latest price is $104,818.69.', 'The closing price for Bitcoin (BTC) yesterday was $96,462.75. The latest price is $97,376.', 'The current price is $97,617.73 per BTC with a 24-hour trading volume of $17.76B. Currently, Bitcoin is valued at 10.46% below its all time high of $109,026.02.', 'Live price of Bitcoin is $97509.80 with a market cap of $1933.10B USD. Discover current price, trading volume, chart history, and more.']\u001b[0m\n",
      "Thought:\u001b[32;1m\u001b[1;3mCould not parse LLM output: Final Answer\u001b[0m\n",
      "Observation: Invalid or incomplete response\n",
      "Thought:\u001b[32;1m\u001b[1;3mCould not parse LLM output: Final Answer\u001b[0m\n",
      "Observation: Invalid or incomplete response\n",
      "Thought:\u001b[32;1m\u001b[1;3mCould not parse LLM output: Final Answer\u001b[0m\n",
      "Observation: Invalid or incomplete response\n",
      "Thought:\u001b[32;1m\u001b[1;3mCould not parse LLM output: Final Answer\u001b[0m\n",
      "Observation: Invalid or incomplete response\n",
      "Thought:\u001b[32;1m\u001b[1;3mCould not parse LLM output: Final Answer\u001b[0m\n",
      "Observation: Invalid or incomplete response\n",
      "Thought:\u001b[32;1m\u001b[1;3mFinal Answer: The closing price for Bitcoin yesterday was $96,462.75.\u001b[0m\n",
      "\n",
      "\u001b[1m> Finished chain.\u001b[0m\n"
     ]
    },
    {
     "data": {
      "text/plain": [
       "'The closing price for Bitcoin yesterday was $96,462.75.'"
      ]
     },
     "execution_count": 22,
     "metadata": {},
     "output_type": "execute_result"
    }
   ],
   "source": [
    "agent.run(\"What was the price of bitcoin yesterday\")"
   ]
  },
  {
   "cell_type": "code",
   "execution_count": null,
   "id": "f1769329-8b3d-4f5a-b79d-b7381d134559",
   "metadata": {},
   "outputs": [
    {
     "name": "stdout",
     "output_type": "stream",
     "text": [
      "\n",
      "\n",
      "\u001b[1m> Entering new AgentExecutor chain...\u001b[0m\n",
      "\u001b[32;1m\u001b[1;3mCould not parse LLM output: Thought: To answer this question, I will need to search for information on the factors that contribute to the fluctuation in the price of Bitcoin.\n",
      "\n",
      "Action:\n",
      "```\n",
      "{\n",
      "  \"action\": Search,\n",
      "  \"action_input\": \"factors contributing to Bitcoin price fluctuation\"\n",
      "}\n",
      "```\n",
      "\n",
      "\u001b[0m\n",
      "Observation: Invalid or incomplete response\n",
      "Thought:\u001b[32;1m\u001b[1;3mCould not parse LLM output: Thought: Since the previous search attempt did not provide a satisfactory response, I will try a different approach to find information on the factors that contribute to the fluctuation in the price of Bitcoin.\n",
      "\n",
      "Action:\n",
      "```\n",
      "{\n",
      "  \"action\": Wikipedia,\n",
      "  \"action_input\": \"Bitcoin\"\n",
      "}\n",
      "```\u001b[0m\n",
      "Observation: Invalid or incomplete response\n",
      "Thought:\u001b[32;1m\u001b[1;3mCould not parse LLM output: Thought: To better understand the factors that contribute to the fluctuation in the price of Bitcoin, I will search for a more specific aspect related to Bitcoin's price volatility.\n",
      "\n",
      "Action:\n",
      "```\n",
      "{\n",
      "  \"action\": Search,\n",
      "  \"action_input\": \"Bitcoin price volatility factors 2021\"\n",
      "}\n",
      "``` \n",
      "\n",
      "\u001b[0m\n",
      "Observation: Invalid or incomplete response\n",
      "Thought:\u001b[32;1m\u001b[1;3mCould not parse LLM output: I will try a different approach to find information on the factors that contribute to the fluctuation in the price of Bitcoin.\n",
      "\n",
      "Action:\n",
      "```\n",
      "{\n",
      "  \"action\": Wikipedia,\n",
      "  \"action_input\": \"Price of Bitcoin\"\n",
      "}\n",
      "``` \n",
      "\n",
      "\u001b[0m\n",
      "Observation: Invalid or incomplete response\n",
      "Thought:\u001b[32;1m\u001b[1;3mCould not parse LLM output: I will attempt to provide a more direct answer by using a search engine to find information on the fluctuation in the price of Bitcoin.\n",
      "\n",
      "Action:\n",
      "```\n",
      "{\n",
      "  \"action\": Search,\n",
      "  \"action_input\": \"justification for fluctuation in price of Bitcoin\"\n",
      "}\n",
      "``` \n",
      "\n",
      "\u001b[0m\n",
      "Observation: Invalid or incomplete response\n",
      "Thought:\u001b[32;1m\u001b[1;3mCould not parse LLM output: Thought: Since the previous attempts to find information on the factors contributing to the fluctuation in the price of Bitcoin have been unsuccessful, I will try a different approach by searching for a specific aspect related to Bitcoin's price volatility.\n",
      "\n",
      "Action:\n",
      "```\n",
      "{\n",
      "  \"action\": Search,\n",
      "  \"action_input\": \"reasons for Bitcoin price fluctuations\"\n",
      "}\n",
      "``` \n",
      "\n",
      "\u001b[0m\n",
      "Observation: Invalid or incomplete response\n",
      "Thought:\u001b[32;1m\u001b[1;3mCould not parse LLM output: I will try a different approach to find information on the factors that contribute to the fluctuation in the price of Bitcoin.\n",
      "\n",
      "Action:\n",
      "```\n",
      "{\n",
      "  \"action\": Search,\n",
      "  \"action_input\": \"What causes Bitcoin price fluctuations\"\n",
      "}\n",
      "``` \n",
      "\n",
      "\u001b[0m\n",
      "Observation: Invalid or incomplete response\n",
      "Thought:\u001b[32;1m\u001b[1;3mCould not parse LLM output: I will try a different approach to find information on the factors that contribute to the fluctuation in the price of Bitcoin.\n",
      "\n",
      "Action:\n",
      "```\n",
      "{\n",
      "  \"action\": Search,\n",
      "  \"action_input\": \"Why does the price of Bitcoin fluctuate?\"\n",
      "}\n",
      "``` \u001b[0m\n",
      "Observation: Invalid or incomplete response\n",
      "Thought:"
     ]
    }
   ],
   "source": [
    "agent.run(\"Can you justify the fluctuation in price of bitcoin\")"
   ]
  },
  {
   "cell_type": "code",
   "execution_count": null,
   "id": "a671580b-4255-4354-b041-721c574c0b2e",
   "metadata": {},
   "outputs": [],
   "source": []
  }
 ],
 "metadata": {
  "colab": {
   "provenance": []
  },
  "kernelspec": {
   "display_name": "Python 3 [3.10]",
   "language": "python",
   "name": "python3"
  },
  "language_info": {
   "codemirror_mode": {
    "name": "ipython",
    "version": 3
   },
   "file_extension": ".py",
   "mimetype": "text/x-python",
   "name": "python",
   "nbconvert_exporter": "python",
   "pygments_lexer": "ipython3",
   "version": "3.10.2"
  }
 },
 "nbformat": 4,
 "nbformat_minor": 5
}
