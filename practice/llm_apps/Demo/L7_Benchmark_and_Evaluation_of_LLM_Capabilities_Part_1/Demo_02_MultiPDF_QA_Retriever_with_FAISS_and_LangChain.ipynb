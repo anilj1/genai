{
 "cells": [
  {
   "cell_type": "markdown",
   "metadata": {
    "id": "IPNfNQMHsTzw"
   },
   "source": [
    "# **Demo: MultiPDF QA Retriever with FAISS and LangChain**\n",
    "\n",
    "In this demo, you will learn how to use LangChain to create a MultiPDF retriever with FAISS. This demo is performed on new generative AI research paper PDFs. You will understand how to load and process documents, create a database, make a retriever, create a chain, and use the retriever to ask questions and get answers."
   ]
  },
  {
   "cell_type": "markdown",
   "metadata": {
    "id": "UHNcYIClspLl"
   },
   "source": [
    "## **Steps to Perform:**\n",
    "\n",
    "*   Step 1: Importing the Necessary Libraries\n",
    "*   Step 2: Loading and Splitting\n",
    "*   Step 3: Loading the OpenAI Embeddings\n",
    "*   Step 4: Creating and Loading the Database\n",
    "*   Step 5: Creating and Using the Retriever\n",
    "*   Step 6: Passing the Query\n",
    "\n"
   ]
  },
  {
   "cell_type": "markdown",
   "metadata": {
    "id": "uiVumMWatiZP"
   },
   "source": [
    "### **Step 1: Importing the Necessary Libraries**"
   ]
  },
  {
   "cell_type": "code",
   "execution_count": 1,
   "metadata": {
    "id": "-rlv9F3SsZBz"
   },
   "outputs": [],
   "source": [
    "from langchain.vectorstores import FAISS\n",
    "from langchain.text_splitter import RecursiveCharacterTextSplitter\n",
    "from langchain.llms import OpenAI\n",
    "from langchain.chains import RetrievalQA\n",
    "from langchain.document_loaders import TextLoader, PyPDFLoader, DirectoryLoader\n",
    "from langchain.embeddings import OpenAIEmbeddings\n",
    "import os\n",
    "import openai\n"
   ]
  },
  {
   "cell_type": "markdown",
   "metadata": {
    "id": "mAT815IEtnw0"
   },
   "source": [
    "### **Step 2: Loading and Splitting**\n",
    "\n",
    "\n",
    "*   Create a directory named `GenAI_Papers`.\n",
    "*   Load the PDF documents in the directory.\n",
    "*   Split the documents into smaller chunks using the **RecursiveCharacterTextSplitter**."
   ]
  },
  {
   "cell_type": "code",
   "execution_count": 3,
   "metadata": {
    "id": "DGoEWZK1tqYI"
   },
   "outputs": [
    {
     "name": "stderr",
     "output_type": "stream",
     "text": [
      "/Library/Frameworks/Python.framework/Versions/3.10/lib/python3.10/site-packages/pypdf/_crypt_providers/_cryptography.py:32: CryptographyDeprecationWarning: ARC4 has been moved to cryptography.hazmat.decrepit.ciphers.algorithms.ARC4 and will be removed from this module in 48.0.0.\n",
      "  from cryptography.hazmat.primitives.ciphers.algorithms import AES, ARC4\n"
     ]
    }
   ],
   "source": [
    "# Loading the documents\n",
    "doc_loader = DirectoryLoader('Gen_AI_Papers', glob=\"./*.pdf\", loader_cls=PyPDFLoader)\n",
    "documents = doc_loader.load()\n",
    "\n",
    "# Splitting the documents\n",
    "text_splitter = RecursiveCharacterTextSplitter(chunk_size=1000, chunk_overlap=200)\n",
    "texts = text_splitter.split_documents(documents)\n"
   ]
  },
  {
   "cell_type": "code",
   "execution_count": 5,
   "metadata": {},
   "outputs": [
    {
     "data": {
      "text/plain": [
       "[Document(metadata={'source': 'Gen_AI_Papers/Lab_Guide.pdf', 'page': 0}, page_content='Advanced Generative AI : Building LLM Application   \\nLab Guide'),\n",
       " Document(metadata={'source': 'Gen_AI_Papers/Lab_Guide.pdf', 'page': 1}, page_content='Note: The screenshots are only for your reference. Your LMS may look \\ndifferent depending on  the course content.   \\n  \\nThis section will guide you to:   \\n● Use labs for executing all the demos included in this course  \\n  \\nStep 1:  Log into the Simplilearn LMS . Click on Practice Labs , and then click on \\nLaunch Lab  \\n \\n \\n \\n \\n \\n \\n \\n \\n \\nClick on Practice Labs  Click  on Launch Lab  to \\nlaunch  it'),\n",
       " Document(metadata={'source': 'Gen_AI_Papers/Lab_Guide.pdf', 'page': 2}, page_content='Step 2:  A small screen will pop up in the middle of your screen with essential \\ninformation  about the lab ; click on the Launch Lab  button . \\n \\nStep 3:  End your lab by clicking the End Lab  button'),\n",
       " Document(metadata={'source': 'Gen_AI_Papers/Instructor_Manual.pdf', 'page': 0}, page_content='Instructor  Manual  \\nAdvanced Generative AI: Building LLM \\nApplications'),\n",
       " Document(metadata={'source': 'Gen_AI_Papers/Instructor_Manual.pdf', 'page': 1}, page_content='Table of Contents  \\nPurpose of the Document  ................................ ................................ ................................ ................................ ................................ ................................ ................  2 \\nPreparation  ................................ ................................ ................................ ................................ ................................ ................................ ................................ ...... 3 \\nCourse Materials  ................................ ................................ ................................ ................................ ................................ ................................ ..............................  3'),\n",
       " Document(metadata={'source': 'Gen_AI_Papers/Instructor_Manual.pdf', 'page': 1}, page_content='Lesson Plan  ................................ ................................ ................................ ................................ ................................ ................................ ................................ ... 3 \\nInstructor Slides  ................................ ................................ ................................ ................................ ................................ ................................ ...........................  4 \\nDemo Document  ................................ ................................ ................................ ................................ ................................ ................................ ..........................  4 \\nLab Guide  ................................ ................................ ................................ ................................ ................................ ................................ ................................ ..... 4'),\n",
       " Document(metadata={'source': 'Gen_AI_Papers/Instructor_Manual.pdf', 'page': 1}, page_content='Guided Practice  ................................ ................................ ................................ ................................ ................................ ................................ ............................  4 \\nSTAR Framework  ................................ ................................ ................................ ................................ ................................ ................................ ..............................  5 \\nFacilitation Guide  ................................ ................................ ................................ ................................ ................................ ................................ .............................  6'),\n",
       " Document(metadata={'source': 'Gen_AI_Papers/Instructor_Manual.pdf', 'page': 1}, page_content='Dos and Don’ts:  ................................ ................................ ................................ ................................ ................................ ................................ ................................  7 \\nDos:  ................................ ................................ ................................ ................................ ................................ ................................ ................................ ..............  7 \\nDon’ts:  ................................ ................................ ................................ ................................ ................................ ................................ ................................ ..........  8 \\n \\n \\nPurpose of the Document  \\nThis document serves as a go-to guide for instructors, offering essential information and resource links to help them prepare thoroughly for \\nlive classes. It covers everything instructors need to know.'),\n",
       " Document(metadata={'source': 'Gen_AI_Papers/Instructor_Manual.pdf', 'page': 2}, page_content='Preparation  \\n1. Carefully review the instructor manual to become familiar with the course components.  \\n2. Familiarize yourself with the course materials, including the lesson plan, instructor slides, demo documents, and guided practices  to \\nensure thorough preparation for the live class.  \\nCourse Materials  \\nExplore the following resources for effective preparation before the live class:   \\n \\n• Lesson Plan  \\n• Instructor Slides  \\n• Demo Documents  \\n• Lab Guide  \\n• Guided Practice  \\n \\nLesson Plan  \\nThis document provides a comprehensive overview of the entire course, encompassing the course name, lessons, topics, subtopics,  \\ncomponents, and learning objectives or competencies for each lesson.'),\n",
       " Document(metadata={'source': 'Gen_AI_Papers/Instructor_Manual.pdf', 'page': 3}, page_content=\"Instructor Slides  \\nThis PowerPoint presentation is intended for use during live virtual classes. It comprises lesson learning objectives, lectur e topics, demos, quick \\nchecks (multiple -choice questions used as polls for immediate feedback on learners' understanding after each topic), guided practice, and \\npractice projects for each lesson. Each presentation is designed for a 3 -hour session.  \\nDemo Document  \\nThis detailed document is a comprehensive guide for  the instructor to  conduct  the live demonstrations. It is also a valuable resource for \\nlearners to practice offline.  \\nCourse -end project   \\nThis is a graded assignment at the end of a course. This project is designed based on the STAR Framework to help the learners  perform better \\nin interviews. Hence, You may find this under “Career Simulation” or under “Assessment” on the LMS.   \\nLab Guide  \\nThis guide is designed for both instructors and learners, providing assistance on setting up a practice lab if necessary.\"),\n",
       " Document(metadata={'source': 'Gen_AI_Papers/Instructor_Manual.pdf', 'page': 3}, page_content='Lab Guide  \\nThis guide is designed for both instructors and learners, providing assistance on setting up a practice lab if necessary.  \\nGuided Practice  \\nThis flexible exercise is suitable for both individual and small -group activities during live classes , with a recommended duration of 20 to 30 \\nminutes. It is ungraded, and answer keys are provided for reference. The components include an overview, instructions, tasks, discussi on \\nquestions, and an answer key.'),\n",
       " Document(metadata={'source': 'Gen_AI_Papers/Instructor_Manual.pdf', 'page': 4}, page_content='STAR Framework  \\nWe have leveraged the STAR Framework in designing  Course -end projects . This strategic approach equips our learners with the necessary skills to \\nconfidently address situational interview questions.  \\nLearn more about this framework.  \\n“Gradual Release of Responsibility ” Model'),\n",
       " Document(metadata={'source': 'Gen_AI_Papers/Instructor_Manual.pdf', 'page': 5}, page_content=\"Facilitation Guide  \\nFor each 3 -hour session, a specific flow is outlined. Please review the following class structure, detailing associated responsibilities  for you as \\nthe instructor. The structure includes the flow of lesson components or slide titles, the mode (indicating w hether the component is conducted \\nin or out of class), the activity type, and 'Delivery Flexibility' (highlighting whether the component is mandatory or flexib le for the instructor  to \\nconduct ). Additionally, the 'Role of the Instructor' section clarifies y our responsibilities for each component, and an estimated duration is \\nprovided for each lesson component.   \\n  \\nComponent/Slide Title   Mode   Activity Type   Delivery Flexibility   Role of the Instructor   Estimated Duration   \\nCourse Name       Mandatory   Display this slide as participants join the Zoom call.   Not applicable   \\nLesson Name   \\u202f    Mandatory   Announce the lesson name.   Not applicable   \\nQuick Recap (lesson two\"),\n",
       " Document(metadata={'source': 'Gen_AI_Papers/Instructor_Manual.pdf', 'page': 5}, page_content='Lesson Name   \\u202f    Mandatory   Announce the lesson name.   Not applicable   \\nQuick Recap (lesson two \\nonwards)   Synchronous (In -class)   Instructor -led  Flexible   Quickly recap the previous lesson before starting the lesson. Ask the \\nlearners if they have any questions from the previous lesson.   5 minutes   \\nEngage and Think   Synchronous (In -class)   Instructor -led whole \\ngroup discussion   Mandatory   Facilitate a whole group discussion to kick off today’s lesson.   10 minutes   \\nLearning Objectives   Synchronous (In -class)   Instructor -led  Mandatory   Clearly state the learning objectives at the start.   2 minutes   \\nLecture Topics and Demo   Synchronous (In -class)   Instructor -led  Mandatory   Explain the key concepts of the lesson during the lecture.   \\n  90 minutes*   \\nQuick Check   Synchronous (In -class)   Poll Question   Flexible   Conduct poll questions and, if necessary, reteach key points based on'),\n",
       " Document(metadata={'source': 'Gen_AI_Papers/Instructor_Manual.pdf', 'page': 5}, page_content=\"90 minutes*   \\nQuick Check   Synchronous (In -class)   Poll Question   Flexible   Conduct poll questions and, if necessary, reteach key points based on \\nthe results. If you are short on time, skip a maximum of 1 or 2.   30 minutes* (5 minutes \\nper quick check)   \\nGuided Practice   Synchronous (In -class)   Small -Group \\nActivity/Individual \\nActivity   Mandatory   As you transition into the guided practice, explain to the students \\nhow a guided practice works. The answers are provided, but the \\npoint is to try it on their own FIRST and then check the response.    \\nEncourage them to make it worth their time.   \\nFacilitate the guided practice exercise.   \\nMonitor breakout rooms. (in case of small -group activity)   \\n  30 minutes*   \\nKey Takeaways   Synchronous (In -class)   Instructor -led  Mandatory   Summarize the lesson's key takeaways.   5 minutes   \\nPractice Project   Asynchronous (Out of\"),\n",
       " Document(metadata={'source': 'Gen_AI_Papers/Instructor_Manual.pdf', 'page': 5}, page_content=\"30 minutes*   \\nKey Takeaways   Synchronous (In -class)   Instructor -led  Mandatory   Summarize the lesson's key takeaways.   5 minutes   \\nPractice Project   Asynchronous (Out of \\nthe class)   Individual Assignment   Mandatory   You may or may not come across this slide. If present, inform  the \\nlearners about the assignment, advising them to complete it after \\nclass. You can start the project in the live class if time permits.   2 mins   \\nAdditional Resources   Asynchronous (Out of \\nthe class)   Instructor -led  Flexible   You may or may not come across this slide. If present, share the \\nadditional resources in the chat for further study. Mention that these 2 mins\"),\n",
       " Document(metadata={'source': 'Gen_AI_Papers/Instructor_Manual.pdf', 'page': 6}, page_content=\"are not mandatory for the learners to complete. If time is limited, \\nyou can skip this.   \\nWhat's Next? (Optional)   Synchronous (In -class)   Instructor -led  Flexible   You may or may not come across this slide. If present, inform \\nlearners about the topics scheduled for the next class. In case of time \\nconstraints, feel free to skip this slide.   1 min   \\nQ&A   Synchronous (In -class)   Instructor -led whole \\ngroup discussion   Flexible   Address learners' questions during the Q & A session, time \\npermitting. If time is limited, you can skip this .  5 to 10 minutes   \\n  \\nNote: The asterisk (*) indicates flexible durations based on the varying needs of the lesson. Each component's estimated duration is \\ntailored to fit within a 170 to 180 -minute class structure.  \\n \\nDos and Don’ts:  \\nDos:  \\n○ Start every session on time  \\n○ Encourage learners to ask questions for a better understanding of the concepts\"),\n",
       " Document(metadata={'source': 'Gen_AI_Papers/Instructor_Manual.pdf', 'page': 6}, page_content='Dos and Don’ts:  \\nDos:  \\n○ Start every session on time  \\n○ Encourage learners to ask questions for a better understanding of the concepts  \\n○ Discuss real -world industry applications of the concepts covered in each class.  \\n○ Prioritize thorough coverage of all planned concepts.  \\n○ Encourage learners to submit practice  projects  (if applicable)  and go through the other materials before attending the next \\nsessions  \\n○ Any information related to session extensions should be communicated to the Learner Success Manager before announcing it in \\nthe session. Instructors should refrain from discussing session extensions or cancellations  with learners unless confirmed by the \\norganization.'),\n",
       " Document(metadata={'source': 'Gen_AI_Papers/Instructor_Manual.pdf', 'page': 7}, page_content='○ Prior to sharing any reference materials, ensure approval from the respective team /person . Share approved materials through a \\ndedicated official drive or a designated community thread for the specific batch.  \\n○ Encourage the learners to reach out to the support team for any support apart from the community threads  \\n \\nDon’ts:  \\n○ Making negative comments about the content.  \\n○ Rushing and closing the session before the scheduled time.  \\n○ Endorsing third -party vendors, external resources, or self -created material.  \\n○ Skipping slides or neglecting any lesson component  \\n○ Deviating from the suggested flow and modifying it based on personal preferences  \\n○ Postponing the coverage of concepts to future sessions  \\n○ Extending class durations  \\n○ Sharing personal contact details with learners (Email ID/LinkedIn ID/Phone Number)  \\n○ Incorporating external content in live class sessions without pre -approval from the Organization .'),\n",
       " Document(metadata={'source': 'Gen_AI_Papers/Instructor_Manual.pdf', 'page': 7}, page_content='○ Sharing personal contact details with learners (Email ID/LinkedIn ID/Phone Number)  \\n○ Incorporating external content in live class sessions without pre -approval from the Organization . \\n \\n \\n \\n-----------------------------------------')]"
      ]
     },
     "execution_count": 5,
     "metadata": {},
     "output_type": "execute_result"
    }
   ],
   "source": [
    "texts"
   ]
  },
  {
   "cell_type": "code",
   "execution_count": 6,
   "metadata": {},
   "outputs": [
    {
     "name": "stdout",
     "output_type": "stream",
     "text": [
      "20\n"
     ]
    }
   ],
   "source": [
    "doc_splitter = RecursiveCharacterTextSplitter(chunk_size=1024, chunk_overlap=64)\n",
    "split_texts = doc_splitter.split_documents(texts)\n",
    "print(len(split_texts))  # Prints the number of chunks the PDF has been split into\n"
   ]
  },
  {
   "cell_type": "code",
   "execution_count": 7,
   "metadata": {},
   "outputs": [
    {
     "data": {
      "text/plain": [
       "[Document(metadata={'source': 'Gen_AI_Papers/Lab_Guide.pdf', 'page': 0}, page_content='Advanced Generative AI : Building LLM Application   \\nLab Guide'),\n",
       " Document(metadata={'source': 'Gen_AI_Papers/Lab_Guide.pdf', 'page': 1}, page_content='Note: The screenshots are only for your reference. Your LMS may look \\ndifferent depending on  the course content.   \\n  \\nThis section will guide you to:   \\n● Use labs for executing all the demos included in this course  \\n  \\nStep 1:  Log into the Simplilearn LMS . Click on Practice Labs , and then click on \\nLaunch Lab  \\n \\n \\n \\n \\n \\n \\n \\n \\n \\nClick on Practice Labs  Click  on Launch Lab  to \\nlaunch  it'),\n",
       " Document(metadata={'source': 'Gen_AI_Papers/Lab_Guide.pdf', 'page': 2}, page_content='Step 2:  A small screen will pop up in the middle of your screen with essential \\ninformation  about the lab ; click on the Launch Lab  button . \\n \\nStep 3:  End your lab by clicking the End Lab  button'),\n",
       " Document(metadata={'source': 'Gen_AI_Papers/Instructor_Manual.pdf', 'page': 0}, page_content='Instructor  Manual  \\nAdvanced Generative AI: Building LLM \\nApplications'),\n",
       " Document(metadata={'source': 'Gen_AI_Papers/Instructor_Manual.pdf', 'page': 1}, page_content='Table of Contents  \\nPurpose of the Document  ................................ ................................ ................................ ................................ ................................ ................................ ................  2 \\nPreparation  ................................ ................................ ................................ ................................ ................................ ................................ ................................ ...... 3 \\nCourse Materials  ................................ ................................ ................................ ................................ ................................ ................................ ..............................  3'),\n",
       " Document(metadata={'source': 'Gen_AI_Papers/Instructor_Manual.pdf', 'page': 1}, page_content='Lesson Plan  ................................ ................................ ................................ ................................ ................................ ................................ ................................ ... 3 \\nInstructor Slides  ................................ ................................ ................................ ................................ ................................ ................................ ...........................  4 \\nDemo Document  ................................ ................................ ................................ ................................ ................................ ................................ ..........................  4 \\nLab Guide  ................................ ................................ ................................ ................................ ................................ ................................ ................................ ..... 4'),\n",
       " Document(metadata={'source': 'Gen_AI_Papers/Instructor_Manual.pdf', 'page': 1}, page_content='Guided Practice  ................................ ................................ ................................ ................................ ................................ ................................ ............................  4 \\nSTAR Framework  ................................ ................................ ................................ ................................ ................................ ................................ ..............................  5 \\nFacilitation Guide  ................................ ................................ ................................ ................................ ................................ ................................ .............................  6'),\n",
       " Document(metadata={'source': 'Gen_AI_Papers/Instructor_Manual.pdf', 'page': 1}, page_content='Dos and Don’ts:  ................................ ................................ ................................ ................................ ................................ ................................ ................................  7 \\nDos:  ................................ ................................ ................................ ................................ ................................ ................................ ................................ ..............  7 \\nDon’ts:  ................................ ................................ ................................ ................................ ................................ ................................ ................................ ..........  8 \\n \\n \\nPurpose of the Document  \\nThis document serves as a go-to guide for instructors, offering essential information and resource links to help them prepare thoroughly for \\nlive classes. It covers everything instructors need to know.'),\n",
       " Document(metadata={'source': 'Gen_AI_Papers/Instructor_Manual.pdf', 'page': 2}, page_content='Preparation  \\n1. Carefully review the instructor manual to become familiar with the course components.  \\n2. Familiarize yourself with the course materials, including the lesson plan, instructor slides, demo documents, and guided practices  to \\nensure thorough preparation for the live class.  \\nCourse Materials  \\nExplore the following resources for effective preparation before the live class:   \\n \\n• Lesson Plan  \\n• Instructor Slides  \\n• Demo Documents  \\n• Lab Guide  \\n• Guided Practice  \\n \\nLesson Plan  \\nThis document provides a comprehensive overview of the entire course, encompassing the course name, lessons, topics, subtopics,  \\ncomponents, and learning objectives or competencies for each lesson.'),\n",
       " Document(metadata={'source': 'Gen_AI_Papers/Instructor_Manual.pdf', 'page': 3}, page_content=\"Instructor Slides  \\nThis PowerPoint presentation is intended for use during live virtual classes. It comprises lesson learning objectives, lectur e topics, demos, quick \\nchecks (multiple -choice questions used as polls for immediate feedback on learners' understanding after each topic), guided practice, and \\npractice projects for each lesson. Each presentation is designed for a 3 -hour session.  \\nDemo Document  \\nThis detailed document is a comprehensive guide for  the instructor to  conduct  the live demonstrations. It is also a valuable resource for \\nlearners to practice offline.  \\nCourse -end project   \\nThis is a graded assignment at the end of a course. This project is designed based on the STAR Framework to help the learners  perform better \\nin interviews. Hence, You may find this under “Career Simulation” or under “Assessment” on the LMS.   \\nLab Guide  \\nThis guide is designed for both instructors and learners, providing assistance on setting up a practice lab if necessary.\"),\n",
       " Document(metadata={'source': 'Gen_AI_Papers/Instructor_Manual.pdf', 'page': 3}, page_content='Lab Guide  \\nThis guide is designed for both instructors and learners, providing assistance on setting up a practice lab if necessary.  \\nGuided Practice  \\nThis flexible exercise is suitable for both individual and small -group activities during live classes , with a recommended duration of 20 to 30 \\nminutes. It is ungraded, and answer keys are provided for reference. The components include an overview, instructions, tasks, discussi on \\nquestions, and an answer key.'),\n",
       " Document(metadata={'source': 'Gen_AI_Papers/Instructor_Manual.pdf', 'page': 4}, page_content='STAR Framework  \\nWe have leveraged the STAR Framework in designing  Course -end projects . This strategic approach equips our learners with the necessary skills to \\nconfidently address situational interview questions.  \\nLearn more about this framework.  \\n“Gradual Release of Responsibility ” Model'),\n",
       " Document(metadata={'source': 'Gen_AI_Papers/Instructor_Manual.pdf', 'page': 5}, page_content=\"Facilitation Guide  \\nFor each 3 -hour session, a specific flow is outlined. Please review the following class structure, detailing associated responsibilities  for you as \\nthe instructor. The structure includes the flow of lesson components or slide titles, the mode (indicating w hether the component is conducted \\nin or out of class), the activity type, and 'Delivery Flexibility' (highlighting whether the component is mandatory or flexib le for the instructor  to \\nconduct ). Additionally, the 'Role of the Instructor' section clarifies y our responsibilities for each component, and an estimated duration is \\nprovided for each lesson component.   \\n  \\nComponent/Slide Title   Mode   Activity Type   Delivery Flexibility   Role of the Instructor   Estimated Duration   \\nCourse Name       Mandatory   Display this slide as participants join the Zoom call.   Not applicable   \\nLesson Name   \\u202f    Mandatory   Announce the lesson name.   Not applicable   \\nQuick Recap (lesson two\"),\n",
       " Document(metadata={'source': 'Gen_AI_Papers/Instructor_Manual.pdf', 'page': 5}, page_content='Lesson Name   \\u202f    Mandatory   Announce the lesson name.   Not applicable   \\nQuick Recap (lesson two \\nonwards)   Synchronous (In -class)   Instructor -led  Flexible   Quickly recap the previous lesson before starting the lesson. Ask the \\nlearners if they have any questions from the previous lesson.   5 minutes   \\nEngage and Think   Synchronous (In -class)   Instructor -led whole \\ngroup discussion   Mandatory   Facilitate a whole group discussion to kick off today’s lesson.   10 minutes   \\nLearning Objectives   Synchronous (In -class)   Instructor -led  Mandatory   Clearly state the learning objectives at the start.   2 minutes   \\nLecture Topics and Demo   Synchronous (In -class)   Instructor -led  Mandatory   Explain the key concepts of the lesson during the lecture.   \\n  90 minutes*   \\nQuick Check   Synchronous (In -class)   Poll Question   Flexible   Conduct poll questions and, if necessary, reteach key points based on'),\n",
       " Document(metadata={'source': 'Gen_AI_Papers/Instructor_Manual.pdf', 'page': 5}, page_content=\"90 minutes*   \\nQuick Check   Synchronous (In -class)   Poll Question   Flexible   Conduct poll questions and, if necessary, reteach key points based on \\nthe results. If you are short on time, skip a maximum of 1 or 2.   30 minutes* (5 minutes \\nper quick check)   \\nGuided Practice   Synchronous (In -class)   Small -Group \\nActivity/Individual \\nActivity   Mandatory   As you transition into the guided practice, explain to the students \\nhow a guided practice works. The answers are provided, but the \\npoint is to try it on their own FIRST and then check the response.    \\nEncourage them to make it worth their time.   \\nFacilitate the guided practice exercise.   \\nMonitor breakout rooms. (in case of small -group activity)   \\n  30 minutes*   \\nKey Takeaways   Synchronous (In -class)   Instructor -led  Mandatory   Summarize the lesson's key takeaways.   5 minutes   \\nPractice Project   Asynchronous (Out of\"),\n",
       " Document(metadata={'source': 'Gen_AI_Papers/Instructor_Manual.pdf', 'page': 5}, page_content=\"30 minutes*   \\nKey Takeaways   Synchronous (In -class)   Instructor -led  Mandatory   Summarize the lesson's key takeaways.   5 minutes   \\nPractice Project   Asynchronous (Out of \\nthe class)   Individual Assignment   Mandatory   You may or may not come across this slide. If present, inform  the \\nlearners about the assignment, advising them to complete it after \\nclass. You can start the project in the live class if time permits.   2 mins   \\nAdditional Resources   Asynchronous (Out of \\nthe class)   Instructor -led  Flexible   You may or may not come across this slide. If present, share the \\nadditional resources in the chat for further study. Mention that these 2 mins\"),\n",
       " Document(metadata={'source': 'Gen_AI_Papers/Instructor_Manual.pdf', 'page': 6}, page_content=\"are not mandatory for the learners to complete. If time is limited, \\nyou can skip this.   \\nWhat's Next? (Optional)   Synchronous (In -class)   Instructor -led  Flexible   You may or may not come across this slide. If present, inform \\nlearners about the topics scheduled for the next class. In case of time \\nconstraints, feel free to skip this slide.   1 min   \\nQ&A   Synchronous (In -class)   Instructor -led whole \\ngroup discussion   Flexible   Address learners' questions during the Q & A session, time \\npermitting. If time is limited, you can skip this .  5 to 10 minutes   \\n  \\nNote: The asterisk (*) indicates flexible durations based on the varying needs of the lesson. Each component's estimated duration is \\ntailored to fit within a 170 to 180 -minute class structure.  \\n \\nDos and Don’ts:  \\nDos:  \\n○ Start every session on time  \\n○ Encourage learners to ask questions for a better understanding of the concepts\"),\n",
       " Document(metadata={'source': 'Gen_AI_Papers/Instructor_Manual.pdf', 'page': 6}, page_content='Dos and Don’ts:  \\nDos:  \\n○ Start every session on time  \\n○ Encourage learners to ask questions for a better understanding of the concepts  \\n○ Discuss real -world industry applications of the concepts covered in each class.  \\n○ Prioritize thorough coverage of all planned concepts.  \\n○ Encourage learners to submit practice  projects  (if applicable)  and go through the other materials before attending the next \\nsessions  \\n○ Any information related to session extensions should be communicated to the Learner Success Manager before announcing it in \\nthe session. Instructors should refrain from discussing session extensions or cancellations  with learners unless confirmed by the \\norganization.'),\n",
       " Document(metadata={'source': 'Gen_AI_Papers/Instructor_Manual.pdf', 'page': 7}, page_content='○ Prior to sharing any reference materials, ensure approval from the respective team /person . Share approved materials through a \\ndedicated official drive or a designated community thread for the specific batch.  \\n○ Encourage the learners to reach out to the support team for any support apart from the community threads  \\n \\nDon’ts:  \\n○ Making negative comments about the content.  \\n○ Rushing and closing the session before the scheduled time.  \\n○ Endorsing third -party vendors, external resources, or self -created material.  \\n○ Skipping slides or neglecting any lesson component  \\n○ Deviating from the suggested flow and modifying it based on personal preferences  \\n○ Postponing the coverage of concepts to future sessions  \\n○ Extending class durations  \\n○ Sharing personal contact details with learners (Email ID/LinkedIn ID/Phone Number)  \\n○ Incorporating external content in live class sessions without pre -approval from the Organization .'),\n",
       " Document(metadata={'source': 'Gen_AI_Papers/Instructor_Manual.pdf', 'page': 7}, page_content='○ Sharing personal contact details with learners (Email ID/LinkedIn ID/Phone Number)  \\n○ Incorporating external content in live class sessions without pre -approval from the Organization . \\n \\n \\n \\n-----------------------------------------')]"
      ]
     },
     "execution_count": 7,
     "metadata": {},
     "output_type": "execute_result"
    }
   ],
   "source": [
    "split_texts"
   ]
  },
  {
   "cell_type": "markdown",
   "metadata": {
    "id": "RLZTwm7DuKe4"
   },
   "source": [
    "### **Step 3: Loading the OpenAI Embeddings**"
   ]
  },
  {
   "cell_type": "code",
   "execution_count": 4,
   "metadata": {
    "id": "F-iBYG45uDIh"
   },
   "outputs": [
    {
     "name": "stderr",
     "output_type": "stream",
     "text": [
      "/Library/Frameworks/Python.framework/Versions/3.10/lib/python3.10/site-packages/langchain_core/_api/deprecation.py:141: LangChainDeprecationWarning: The class `OpenAIEmbeddings` was deprecated in LangChain 0.0.9 and will be removed in 0.3.0. An updated version of the class exists in the langchain-openai package and should be used instead. To use it run `pip install -U langchain-openai` and import as `from langchain_openai import OpenAIEmbeddings`.\n",
      "  warn_deprecated(\n"
     ]
    },
    {
     "ename": "ValidationError",
     "evalue": "1 validation error for OpenAIEmbeddings\n__root__\n  Did not find openai_api_key, please add an environment variable `OPENAI_API_KEY` which contains it, or pass `openai_api_key` as a named parameter. (type=value_error)",
     "output_type": "error",
     "traceback": [
      "\u001b[0;31m---------------------------------------------------------------------------\u001b[0m",
      "\u001b[0;31mValidationError\u001b[0m                           Traceback (most recent call last)",
      "Input \u001b[0;32mIn [4]\u001b[0m, in \u001b[0;36m<cell line: 1>\u001b[0;34m()\u001b[0m\n\u001b[0;32m----> 1\u001b[0m openai_embeddings \u001b[38;5;241m=\u001b[39m \u001b[43mOpenAIEmbeddings\u001b[49m\u001b[43m(\u001b[49m\u001b[43m)\u001b[49m\n",
      "File \u001b[0;32m/Library/Frameworks/Python.framework/Versions/3.10/lib/python3.10/site-packages/langchain_core/_api/deprecation.py:205\u001b[0m, in \u001b[0;36mdeprecated.<locals>.deprecate.<locals>.finalize.<locals>.warn_if_direct_instance\u001b[0;34m(self, *args, **kwargs)\u001b[0m\n\u001b[1;32m    203\u001b[0m     warned \u001b[38;5;241m=\u001b[39m \u001b[38;5;28;01mTrue\u001b[39;00m\n\u001b[1;32m    204\u001b[0m     emit_warning()\n\u001b[0;32m--> 205\u001b[0m \u001b[38;5;28;01mreturn\u001b[39;00m \u001b[43mwrapped\u001b[49m\u001b[43m(\u001b[49m\u001b[38;5;28;43mself\u001b[39;49m\u001b[43m,\u001b[49m\u001b[43m \u001b[49m\u001b[38;5;241;43m*\u001b[39;49m\u001b[43margs\u001b[49m\u001b[43m,\u001b[49m\u001b[43m \u001b[49m\u001b[38;5;241;43m*\u001b[39;49m\u001b[38;5;241;43m*\u001b[39;49m\u001b[43mkwargs\u001b[49m\u001b[43m)\u001b[49m\n",
      "File \u001b[0;32m/Library/Frameworks/Python.framework/Versions/3.10/lib/python3.10/site-packages/pydantic/main.py:341\u001b[0m, in \u001b[0;36mpydantic.main.BaseModel.__init__\u001b[0;34m()\u001b[0m\n",
      "\u001b[0;31mValidationError\u001b[0m: 1 validation error for OpenAIEmbeddings\n__root__\n  Did not find openai_api_key, please add an environment variable `OPENAI_API_KEY` which contains it, or pass `openai_api_key` as a named parameter. (type=value_error)"
     ]
    }
   ],
   "source": [
    "openai_embeddings = OpenAIEmbeddings()"
   ]
  },
  {
   "cell_type": "markdown",
   "metadata": {
    "id": "KqaG3jbAuS0K"
   },
   "source": [
    "### **Step 4: Creating and Loading the Database**\n",
    "\n",
    "*   Create a database to store the embedded text.\n",
    "*   Load the database to bring it back into memory from the disk.\n",
    "\n"
   ]
  },
  {
   "cell_type": "code",
   "execution_count": 7,
   "metadata": {
    "id": "rDcTkjWOv11M"
   },
   "outputs": [],
   "source": [
    "from langchain.vectorstores import FAISS\n",
    "\n",
    "# Create embeddings for texts\n",
    "text_embeddings = openai_embeddings.embed_documents([text.page_content for text in texts])\n",
    "\n",
    "# Creating the FAISS database\n",
    "faiss_index = FAISS.from_texts([text.page_content for text in texts], openai_embeddings)\n",
    "\n",
    "# Save the FAISS index\n",
    "faiss_index.save_local('faiss_index')\n",
    "\n",
    "# Loading the FAISS index\n",
    "faiss_index = FAISS.load_local('faiss_index', openai_embeddings)\n"
   ]
  },
  {
   "cell_type": "markdown",
   "metadata": {
    "id": "nh2K3SO4wBkN"
   },
   "source": [
    "### **Step 5: Creating and Using the Retriever**\n",
    "\n",
    "*   Create a retriever using the vector database.\n",
    "*   Use the retriever to get relevant documents for a specific query.\n",
    "\n"
   ]
  },
  {
   "cell_type": "code",
   "execution_count": 8,
   "metadata": {
    "id": "hOBLjcr5wX6X"
   },
   "outputs": [],
   "source": [
    "# Creating retriever\n",
    "retriever = faiss_index.as_retriever()\n",
    "\n",
    "# Using retriever\n",
    "docs = retriever.get_relevant_documents(\"What is toolformer?\")\n"
   ]
  },
  {
   "cell_type": "markdown",
   "metadata": {
    "id": "MJDyfzRwwhEU"
   },
   "source": [
    "### **Step 6: Passing the Query**\n",
    "\n",
    "*   Pass the query to the vector database.\n",
    "*   Print the content of the most relevant document.\n",
    "\n"
   ]
  },
  {
   "cell_type": "code",
   "execution_count": 9,
   "metadata": {
    "id": "Vc3fqL4ZwmBX"
   },
   "outputs": [
    {
     "name": "stdout",
     "output_type": "stream",
     "text": [
      "with size, measured by the number of trainable parameters: f or example, Wei et al. (2022b ) demonstrate\n",
      "that LLMs become able to perform some BIG-bench tasks3via few-shot prompting once a certain scale is\n",
      "attained. Although a recent line of work yielded smaller LMs that retain some capabilities from their largest\n",
      "counterpart ( Hoﬀmann et al. ,2022), the size and need for data of LLMs can be impractical for tra ining\n",
      "but also maintenance: continual learning for large models r emains an open research question ( Scialom et al. ,\n",
      "2022). Other limitations of LLMs are discussed by Goldberg (2023) in the context of ChatGPT , a chatbot\n",
      "built upon GPT3 .\n",
      "We argue these issues stem from a fundamental defect of LLMs: they are generally trained to perform\n",
      "statistical language modeling given (i) a single parametri c model and (ii) a limited context, typically the n\n",
      "previous or surrounding tokens. While nhas been growing in recent years thanks to software and hardw are\n"
     ]
    }
   ],
   "source": [
    "query = \"A fundamental limitation of HMMs\"\n",
    "docs = faiss_index.similarity_search(query)\n",
    "print(docs[0].page_content)\n"
   ]
  },
  {
   "cell_type": "markdown",
   "metadata": {
    "id": "uT00SGQrw3Dw"
   },
   "source": [
    "### **Conclusion**\n",
    "\n",
    "By the end of this demo, you have a clear understanding of how to use LangChain’s MultiPDF retriever with FAISS. You’ve learned how to load and process documents, create a database, make a retriever, and use the retriever to ask questions. This knowledge will help you effectively utilize LangChain’s capabilities in your projects."
   ]
  },
  {
   "cell_type": "code",
   "execution_count": null,
   "metadata": {},
   "outputs": [],
   "source": []
  }
 ],
 "metadata": {
  "colab": {
   "provenance": []
  },
  "kernelspec": {
   "display_name": "Python 3 (ipykernel)",
   "language": "python",
   "name": "python3"
  },
  "language_info": {
   "codemirror_mode": {
    "name": "ipython",
    "version": 3
   },
   "file_extension": ".py",
   "mimetype": "text/x-python",
   "name": "python",
   "nbconvert_exporter": "python",
   "pygments_lexer": "ipython3",
   "version": "3.10.4"
  }
 },
 "nbformat": 4,
 "nbformat_minor": 4
}
