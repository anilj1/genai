{
 "cells": [
  {
   "cell_type": "markdown",
   "metadata": {
    "id": "umN0poZN7eUQ"
   },
   "source": [
    "# **Demo: Sentiment Analysis**\n",
    "\n",
    "In this demo, we aim to utilize two different tools to analyze the sentiment of a given text. The two tools are:\n",
    "\n",
    "*   OpenAI's GPT-3 API\n",
    "*   TextBlob\n",
    "\n"
   ]
  },
  {
   "cell_type": "markdown",
   "metadata": {
    "id": "_PJtR97Ax8QG"
   },
   "source": [
    "## **Step to Perform:**\n",
    "\n",
    "*   Step 1: Import the Necessary Libraries\n",
    "*   Step 2: Define the Sentiment Analysis Function\n",
    "*   Step 3: Use the Sentiment Analysis Function"
   ]
  },
  {
   "cell_type": "markdown",
   "metadata": {
    "id": "NfZmFsJc6XMc"
   },
   "source": [
    "### **Step 1: Import the Necessary Libraries**\n",
    "\n",
    "*   Import the OpenAI library to use the GPT-3 language model.\n",
    "*   Import the time module to handle time-related operations.\n",
    "*   Import TextBlob for sentiment analysis.\n",
    "\n"
   ]
  },
  {
   "cell_type": "code",
   "execution_count": 1,
   "metadata": {},
   "outputs": [],
   "source": [
    "# Textblob is a python library build on top of NLTK library which is Natural language processing toolkit.\n",
    "\n",
    "# Textblob can help us do nlp taks like sentiment analysis, Text classification...."
   ]
  },
  {
   "cell_type": "code",
   "execution_count": null,
   "metadata": {},
   "outputs": [],
   "source": [
    "# Textblob basically check the polarity of each word after tokenizing the sentence.\n",
    "# Polarity ranges from -1 - +1\n",
    "# For Positive( happy, good, best) its between 0-1 and for negative(Horrible, terrible...) its -1 to 0, and for neutral wors its zero.\n",
    "# Finally it averages the score and gives you the sentiment.\n",
    "\n",
    "# It does not uses any M L/ DL / GenAI algo."
   ]
  },
  {
   "cell_type": "code",
   "execution_count": 1,
   "metadata": {
    "id": "B5K1Dp1du6mU"
   },
   "outputs": [],
   "source": [
    "import openai  # OpenAI Python library for using GPT-3 language model\n",
    "import time  # Time module for handling time-related operations\n",
    "from textblob import TextBlob  # Import TextBlob for sentiment analysis"
   ]
  },
  {
   "cell_type": "markdown",
   "metadata": {
    "id": "QE2iQ1DQyIcv"
   },
   "source": [
    "### **Step 2: Define the Sentiment Analysis Function**\n",
    "\n",
    "*   Define a function **print_sentiment_score** that takes a text string as input.\n",
    "*   Use OpenAI to analyze the sentiment of the text.\n",
    "*   Extract the sentiment from the API response.\n",
    "*   Determine the sentiment score based on the extracted sentiment.\n",
    "*   Analyze the sentiment using TextBlob.\n",
    "*   Determine the sentiment label based on the TextBlob sentiment score.\n",
    "*   Print the text, sentiment scores, and extracted sentiment from OpenAI."
   ]
  },
  {
   "cell_type": "markdown",
   "metadata": {},
   "source": [
    "# Using GPT and TextBlob"
   ]
  },
  {
   "cell_type": "code",
   "execution_count": 13,
   "metadata": {
    "id": "U8mpWXOUkiRL"
   },
   "outputs": [],
   "source": [
    "def print_sentiment_score(text):\n",
    "    \"\"\"\n",
    "    Analyzes sentiment using OpenAI GPT-3.5 API and TextBlob.\n",
    "\n",
    "    Parameters:\n",
    "    text (str): The input text to analyze.\n",
    "\n",
    "    Prints:\n",
    "    - Sentiment from OpenAI\n",
    "    - Sentiment from TextBlob\n",
    "    \"\"\"\n",
    "\n",
    "    # Analyze Sentiment Using OpenAI GPT-3.5\n",
    "    try:\n",
    "        response = openai.Completion.create(\n",
    "            engine=\"gpt-3.5-turbo-instruct\",\n",
    "            prompt=f\"Please analyze and provide the sentiment (positive, negative, or neutral) of the following text:\\n{text}\",\n",
    "            temperature=0,\n",
    "            max_tokens=128,\n",
    "            n=1,\n",
    "            stop=None,\n",
    "            timeout=10,\n",
    "        )\n",
    "\n",
    "        # Extract OpenAI Sentiment\n",
    "        openai_sentiment = response.choices[0].text.strip().lower()\n",
    "        \n",
    "        # Classify the sentiment from OpenAI\n",
    "        if \"positive\" in openai_sentiment:\n",
    "            openai_sentiment_score = \"positive\"\n",
    "        elif \"negative\" in openai_sentiment:\n",
    "            openai_sentiment_score = \"negative\"\n",
    "        else:\n",
    "            openai_sentiment_score = \"neutral\"\n",
    "    \n",
    "    except Exception as e:\n",
    "        openai_sentiment_score = \"Error in OpenAI request\"\n",
    "        openai_sentiment = str(e)\n",
    "\n",
    "    # Analyze Sentiment Using TextBlob\n",
    "    blob = TextBlob(text)\n",
    "    textblob_sentiment_polarity = blob.sentiment.polarity\n",
    "\n",
    "    # Convert polarity to sentiment label\n",
    "    if textblob_sentiment_polarity > 0:\n",
    "        textblob_sentiment_score = \"positive\"\n",
    "    elif textblob_sentiment_polarity < 0:\n",
    "        textblob_sentiment_score = \"negative\"\n",
    "    else:\n",
    "        textblob_sentiment_score = \"neutral\"\n",
    "\n",
    "    # Print Sentiment Analysis Results\n",
    "    print(\"\\n Sentiment Analysis Results\")\n",
    "    print(f\" Text: {text}\")\n",
    "    print(f\" OpenAI GPT-3 Sentiment: {openai_sentiment_score} ({openai_sentiment})\")\n",
    "    print(f\" TextBlob Sentiment: {textblob_sentiment_score} (Polarity: {textblob_sentiment_polarity})\")\n"
   ]
  },
  {
   "cell_type": "markdown",
   "metadata": {
    "id": "aZzHnCqWyjcu"
   },
   "source": [
    "### **Step 3: Use the Sentiment Analysis Function**\n",
    "\n",
    "*   Define a text string.\n",
    "*   Use the **print_sentiment_score** function to analyze the sentiment of the text."
   ]
  },
  {
   "cell_type": "code",
   "execution_count": 14,
   "metadata": {
    "id": "lv3OHxsNtpbw"
   },
   "outputs": [
    {
     "name": "stdout",
     "output_type": "stream",
     "text": [
      "\n",
      " Sentiment Analysis Results\n",
      " Text: I absolutely not feel waking up early in the morning\n",
      " OpenAI GPT-3 Sentiment: negative (negative)\n",
      " TextBlob Sentiment: neutral (Polarity: 0.0)\n"
     ]
    }
   ],
   "source": [
    "# Example usage ** Enter your text below**\n",
    "text = \"I absolutely not feel waking up early in the morning\"\n",
    "print_sentiment_score(text)\n"
   ]
  },
  {
   "cell_type": "markdown",
   "metadata": {
    "id": "EKTa9VQy-So5"
   },
   "source": [
    "## **Conclusion:**\n",
    "\n",
    "In this demo, you have observed the difference between the sentiments generated by the traditional textblob model and the OpenAI LLM model."
   ]
  }
 ],
 "metadata": {
  "colab": {
   "provenance": []
  },
  "kernelspec": {
   "display_name": "Python 3 [3.10]",
   "language": "python",
   "name": "python3"
  },
  "language_info": {
   "codemirror_mode": {
    "name": "ipython",
    "version": 3
   },
   "file_extension": ".py",
   "mimetype": "text/x-python",
   "name": "python",
   "nbconvert_exporter": "python",
   "pygments_lexer": "ipython3",
   "version": "3.10.2"
  }
 },
 "nbformat": 4,
 "nbformat_minor": 4
}
