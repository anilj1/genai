{
 "cells": [
  {
   "cell_type": "markdown",
   "id": "6712854a-6f61-401e-aa8c-28a24ec663ef",
   "metadata": {},
   "source": [
    "# __Demo: Using Jinja2 Template Format__"
   ]
  },
  {
   "cell_type": "markdown",
   "id": "25f08017-373d-4b60-9f3f-b90a2c31328c",
   "metadata": {},
   "source": [
    "## __Steps to Perform:__\n",
    "Step 1: Set up the OpenAI API Key\n",
    "\n",
    "Step 2: Define a Function to Get Completion\n",
    "\n",
    "Step 3: Define Your Prompts\n",
    "\n",
    "Step 4: Define Jinja2 prompt template"
   ]
  },
  {
   "cell_type": "markdown",
   "id": "eAM5-YP-GFdY",
   "metadata": {
    "id": "eAM5-YP-GFdY"
   },
   "source": [
    "### __Step 1: Set up the OpenAI API Key__\n",
    "- Import the required libraries and set up the OpenAI API key."
   ]
  },
  {
   "cell_type": "code",
   "execution_count": 1,
   "id": "edd589c7-3089-4387-801d-443eae67a201",
   "metadata": {
    "id": "edd589c7-3089-4387-801d-443eae67a201"
   },
   "outputs": [],
   "source": [
    "import os\n",
    "import openai\n",
    "#from dotenv import load_dotenv, find_dotenv\n",
    "\n",
    "#_ = load_dotenv(find_dotenv()) # read local .env file\n",
    "#openai.api_key  = os.getenv('OPENAI_API_KEY')\n"
   ]
  },
  {
   "cell_type": "markdown",
   "id": "kfeoI7zTGTCY",
   "metadata": {
    "id": "kfeoI7zTGTCY"
   },
   "source": [
    "### __Step 2: Define a Function to Get Completion__\n",
    "- Construct a message with the user's prompt.\n",
    "- Call the __openai.ChatCompletion.create__ method to get a response from the model.\n",
    "- The temperature parameter is set to __0__ for deterministic (non-random) responses."
   ]
  },
  {
   "cell_type": "code",
   "execution_count": 2,
   "id": "629a2fcb-cffc-4e05-bfc8-429802da7925",
   "metadata": {
    "id": "629a2fcb-cffc-4e05-bfc8-429802da7925"
   },
   "outputs": [],
   "source": [
    "def get_completion(prompt, model=\"gpt-3.5-turbo\"):\n",
    "    messages = [{\"role\": \"user\", \"content\": prompt}]\n",
    "    response = openai.ChatCompletion.create(\n",
    "        model=model,\n",
    "        messages=messages,\n",
    "        temperature=0, # this is the degree of randomness of the model's output\n",
    "    )\n",
    "    return response.choices[0].message[\"content\"]"
   ]
  },
  {
   "cell_type": "markdown",
   "id": "7sMtUV5hGhjR",
   "metadata": {
    "id": "7sMtUV5hGhjR"
   },
   "source": [
    "### __Step 3: Define Your Prompts__\n",
    "- Provide a series of prompts that guide the model through a tree of thought.\n",
    "- Call __get_completion__ to get a response from the AI model.\n",
    "- Print both the prompt and the AI-generated response."
   ]
  },
  {
   "cell_type": "code",
   "execution_count": 3,
   "id": "DLqH5cXZItfd",
   "metadata": {
    "id": "DLqH5cXZItfd"
   },
   "outputs": [],
   "source": [
    "# String Prompt Template"
   ]
  },
  {
   "cell_type": "code",
   "execution_count": 4,
   "id": "6uX1P6Z_IoQE",
   "metadata": {
    "id": "6uX1P6Z_IoQE"
   },
   "outputs": [
    {
     "name": "stdout",
     "output_type": "stream",
     "text": [
      " Please write a short review,of the book  House Of Dragon. \n",
      "AI Response:\n",
      "\"House of Dragon\" is a thrilling and captivating read that takes readers on a journey through a world filled with dragons, magic, and political intrigue. The characters are well-developed and the plot is full of twists and turns that keep you on the edge of your seat. The author's vivid descriptions bring the world to life, making it easy to get lost in the story. Overall, \"House of Dragon\" is a must-read for fans of fantasy and adventure.\n"
     ]
    }
   ],
   "source": [
    "from langchain.prompts import PromptTemplate\n",
    "\n",
    "templatee = \" Please write a {length} review,of the book {book_title}. \"\n",
    "\n",
    "input_variabless = [ \"length\", \"book_title\" ]\n",
    "\n",
    "# Creating the prompt template\n",
    "\n",
    "prompt = PromptTemplate(\n",
    "    input_variables=input_variabless,\n",
    "    template=templatee\n",
    ")\n",
    "\n",
    "# Format the prompt by filling in the placeholders with specific values\n",
    "\n",
    "formatted_prompt = prompt.format(length = \"short\", book_title = \" House Of Dragon\")\n",
    "\n",
    "print(formatted_prompt)\n",
    "\n",
    "response = get_completion(formatted_prompt)\n",
    "print(\"AI Response:\")\n",
    "print(response)"
   ]
  },
  {
   "cell_type": "markdown",
   "id": "830d877c-5d4e-44a3-85e2-fb6ce8801749",
   "metadata": {
    "id": "H95sQylNIs_M"
   },
   "source": [
    "### __Step 4: Define Jinja2 prompt template__"
   ]
  },
  {
   "cell_type": "code",
   "execution_count": 6,
   "id": "Ihn4mmdLIyM0",
   "metadata": {
    "id": "Ihn4mmdLIyM0"
   },
   "outputs": [
    {
     "name": "stdout",
     "output_type": "stream",
     "text": [
      "Give me an interesting fact about space exploration\n",
      "AI Response:\n",
      "The farthest spacecraft from Earth is Voyager 1, which was launched in 1977 and is currently over 14 billion miles away from our planet. It is the only human-made object to have entered interstellar space, making it the most distant man-made object from Earth.\n"
     ]
    }
   ],
   "source": [
    "from langchain.prompts import PromptTemplate\n",
    "\n",
    "jinja2_template = \"Give me an {{ adjective }} fact about {{ topic }}\"\n",
    "\n",
    "prompt = PromptTemplate.from_template(jinja2_template, template_format = \"jinja2\" )\n",
    "\n",
    "user_question = prompt.format(adjective=\"interesting\", topic=\"space exploration\")\n",
    "\n",
    "print(user_question)\n",
    "\n",
    "response = get_completion(user_question)\n",
    "print(\"AI Response:\")\n",
    "print(response)"
   ]
  },
  {
   "cell_type": "code",
   "execution_count": 7,
   "id": "jmE4Op9uKtz0",
   "metadata": {
    "id": "jmE4Op9uKtz0"
   },
   "outputs": [
    {
     "name": "stdout",
     "output_type": "stream",
     "text": [
      "\n",
      "\n",
      "Dear John Doe,\n",
      "\n",
      "You are invited to our kids' event with activities such as face painting, bouncy castles, and clown shows.\n",
      "\n",
      "Sincerely,\n",
      "Event Organizer\n",
      "\n",
      "Write the mail in 200 words\n"
     ]
    }
   ],
   "source": [
    "# Example where string prompt template would not work\n",
    "\n",
    "# Define the prompt template\n",
    "\n",
    "jinja2_template = \"\"\"\n",
    "\n",
    "Dear {{ name }},\n",
    "{% if age < 18 %}\n",
    "You are invited to our kids' event with activities such as face painting, bouncy castles, and clown shows.\n",
    "{% elif age < 65 %}\n",
    "You are invited to our adult event with activities like live music, wine tasting, and art workshops.\n",
    "{% else %}\n",
    "You are invited to our senior event with activities including book clubs, chess tournaments, and tea dances.\n",
    "{% endif %}\n",
    "Sincerely,\n",
    "Event Organizer\n",
    "\n",
    "Write the mail in 200 words\n",
    "\"\"\"\n",
    "\n",
    "prompt = PromptTemplate.from_template(jinja2_template, template_format=\"jinja2\")\n",
    "\n",
    "# Format the prompt with specific values for 'action', 'group', and 'time_period'\n",
    "argument_prompt = prompt.format(name=\"John Doe\", age=12)\n",
    "\n",
    "print(argument_prompt)"
   ]
  },
  {
   "cell_type": "code",
   "execution_count": 8,
   "id": "Z0zSgKnOKwCg",
   "metadata": {
    "id": "Z0zSgKnOKwCg"
   },
   "outputs": [
    {
     "name": "stdout",
     "output_type": "stream",
     "text": [
      "AI Response:\n",
      "Dear John Doe,\n",
      "\n",
      "I hope this message finds you well. We are excited to invite you to our upcoming kids' event that promises to be a day full of fun and excitement for children of all ages. The event will feature a variety of activities including face painting, bouncy castles, and clown shows that are sure to keep the little ones entertained throughout the day.\n",
      "\n",
      "We believe that this event will be a great opportunity for children to come together, make new friends, and create lasting memories. It will also be a chance for parents to relax and enjoy some quality time with their kids in a safe and enjoyable environment.\n",
      "\n",
      "We would be delighted to have you join us at the event and we are confident that you and your family will have a wonderful time. Please mark your calendar for the date of the event and feel free to invite any other friends or family members who may be interested in attending.\n",
      "\n",
      "Thank you for considering our invitation and we look forward to seeing you at the event.\n",
      "\n",
      "Sincerely,\n",
      "Event Organizer\n"
     ]
    }
   ],
   "source": [
    "response = get_completion(argument_prompt)\n",
    "print(\"AI Response:\")\n",
    "print(response)"
   ]
  },
  {
   "cell_type": "code",
   "execution_count": null,
   "id": "8d51b01f-cf85-4332-b0c6-995cc748a721",
   "metadata": {},
   "outputs": [],
   "source": []
  }
 ],
 "metadata": {
  "colab": {
   "provenance": []
  },
  "kernelspec": {
   "display_name": "Python 3 [3.10]",
   "language": "python",
   "name": "python3"
  },
  "language_info": {
   "codemirror_mode": {
    "name": "ipython",
    "version": 3
   },
   "file_extension": ".py",
   "mimetype": "text/x-python",
   "name": "python",
   "nbconvert_exporter": "python",
   "pygments_lexer": "ipython3",
   "version": "3.10.2"
  }
 },
 "nbformat": 4,
 "nbformat_minor": 5
}
