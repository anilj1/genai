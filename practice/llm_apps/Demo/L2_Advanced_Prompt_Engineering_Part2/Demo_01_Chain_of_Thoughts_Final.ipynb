{
  "cells": [
    {
      "cell_type": "code",
      "source": [],
      "metadata": {
        "id": "CeygmCvBEgwW"
      },
      "id": "CeygmCvBEgwW",
      "execution_count": null,
      "outputs": []
    },
    {
      "cell_type": "markdown",
      "id": "oBl1D-pEjs6I",
      "metadata": {
        "id": "oBl1D-pEjs6I"
      },
      "source": [
        "# __Demo: Chain of Thought Prompting with LangChain and OpenAI__\n"
      ]
    },
    {
      "cell_type": "markdown",
      "id": "lvZdkb4YpOHd",
      "metadata": {
        "id": "lvZdkb4YpOHd"
      },
      "source": [
        "## __Steps to Perform:__\n",
        "Step 1: Set up the OpenAI API Key\n",
        "\n",
        "Step 2: Define a Function to Get Completion\n",
        "\n",
        "Step 3: Define Your Prompts\n",
        "\n",
        "Step 4: Analyze the Output"
      ]
    },
    {
      "cell_type": "markdown",
      "id": "Q91iZEcUqMci",
      "metadata": {
        "id": "Q91iZEcUqMci"
      },
      "source": [
        "### __Step 1: Set up the OpenAI API Key__\n",
        "- Import the required libraries and set up the OpenAI API key.\n"
      ]
    },
    {
      "cell_type": "code",
      "execution_count": null,
      "id": "b77ac5df-7119-4777-b0ba-910e5811a852",
      "metadata": {
        "id": "b77ac5df-7119-4777-b0ba-910e5811a852"
      },
      "outputs": [],
      "source": [
        "import os\n",
        "import openai\n",
        "#from dotenv import load_dotenv, find_dotenv\n",
        "\n",
        "#_ = load_dotenv(find_dotenv()) # read local .env file\n",
        "#openai.api_key  = os.getenv('OPENAI_API_KEY')\n"
      ]
    },
    {
      "cell_type": "markdown",
      "id": "8CLt67fQq7FE",
      "metadata": {
        "id": "8CLt67fQq7FE"
      },
      "source": [
        "### __Step 2: Define a Function to Get Completion__\n",
        "- Construct a message with the user's prompt.\n",
        "- Call the __openai.ChatCompletion.create__ method to get a response from the model.\n",
        "- The temperature parameter is set to __0__ for deterministic (non-random) responses."
      ]
    },
    {
      "cell_type": "code",
      "execution_count": null,
      "id": "504caddf-3cec-4c96-983f-a73c29bf4223",
      "metadata": {
        "id": "504caddf-3cec-4c96-983f-a73c29bf4223"
      },
      "outputs": [],
      "source": [
        "def get_completion(prompt, model=\"gpt-3.5-turbo\"):\n",
        "    messages = [{\"role\": \"user\", \"content\": prompt}]\n",
        "    response = openai.ChatCompletion.create(\n",
        "        model=model,\n",
        "        messages=messages,\n",
        "        temperature=0,\n",
        "    )\n",
        "    return response.choices[0].message[\"content\"]"
      ]
    },
    {
      "cell_type": "markdown",
      "id": "CZHiudNysyw4",
      "metadata": {
        "id": "CZHiudNysyw4"
      },
      "source": [
        "### __Step 3: Define Your Prompts__\n",
        "- Provide a series of prompts that guide the model through a chain of thought.\n",
        "- Call the __get_completion__ to get a response from the AI model.\n",
        "- Print both the prompt and the AI-generated response."
      ]
    },
    {
      "cell_type": "code",
      "execution_count": null,
      "id": "417cc372-7a86-48b6-9400-366a4a7e7992",
      "metadata": {
        "id": "417cc372-7a86-48b6-9400-366a4a7e7992",
        "outputId": "854fd4aa-ca28-4c32-9bec-bcba311693d8"
      },
      "outputs": [
        {
          "name": "stdout",
          "output_type": "stream",
          "text": [
            "Prompt: Imagine you are a detective trying to solve a mystery.\n",
            "Response: As a detective, my primary goal is to gather evidence, analyze it, and piece together the puzzle to solve the mystery at hand. Let's imagine a scenario where I am investigating a murder case.\n",
            "\n",
            "First, I would visit the crime scene to gather initial information. I would carefully examine the surroundings, looking for any signs of forced entry, struggle, or any other suspicious activities. I would take photographs, make sketches, and document everything meticulously.\n",
            "\n",
            "Next, I would interview witnesses, starting with the first responders and any individuals who were present at the scene. I would ask them about what they saw, heard, or noticed leading up to the incident. Their statements might provide valuable leads or help establish a timeline of events.\n",
            "\n",
            "Simultaneously, I would request the victim's background information, including personal and professional relationships. This would help me identify potential suspects or persons of interest. I would also check for any previous criminal records or ongoing disputes that might be relevant to the case.\n",
            "\n",
            "To gather more evidence, I would collect any physical items found at the crime scene, such as fingerprints, DNA samples, or footprints. These would be sent to the forensic lab for analysis. Additionally, I would search for any surveillance cameras in the vicinity that might have captured the incident or the suspect's movements.\n",
            "\n",
            "As the investigation progresses, I would analyze the collected evidence and cross-reference it with the victim's background information. This might involve collaborating with forensic experts, analyzing phone records, financial transactions, or any other relevant data.\n",
            "\n",
            "To further expand my investigation, I would conduct interviews with friends, family members, and colleagues of the victim. Their insights might reveal hidden motives, grudges, or any other information that could help identify the perpetrator.\n",
            "\n",
            "Throughout the investigation, I would maintain regular communication with my team, sharing updates and brainstorming ideas. We would discuss potential theories, review evidence, and strategize our next steps.\n",
            "\n",
            "As the pieces of the puzzle start to come together, I would narrow down the list of suspects and focus on gathering more concrete evidence against them. This might involve conducting covert surveillance, executing search warrants, or even setting up sting operations.\n",
            "\n",
            "Finally, when I have gathered enough evidence to support my theory, I would present my findings to the prosecuting attorney. If they agree, we would proceed with the arrest and subsequent trial of the suspect.\n",
            "\n",
            "In summary, as a detective, I would employ a combination of forensic analysis, witness interviews, background checks, and collaboration with experts to solve the mystery. It would require patience, attention to detail, and a relentless pursuit of the truth to bring justice to the victim and closure to their loved ones.\n",
            "\n",
            "Prompt: You arrive at the crime scene and start looking for clues.\n",
            "Response: As I arrive at the crime scene, I take a moment to assess the surroundings. I carefully observe the area, noting any potential evidence or unusual details that may help in solving the case. Here's my approach to looking for clues:\n",
            "\n",
            "1. Secure the Crime Scene: Before anything else, I ensure that the crime scene is properly secured. I establish a perimeter to prevent contamination and unauthorized access, allowing only essential personnel to enter.\n",
            "\n",
            "2. Take Photographs: I begin by taking photographs of the entire crime scene from various angles. These photographs serve as a visual record and help preserve the scene as it was found.\n",
            "\n",
            "3. Note Initial Observations: I make a mental note of any immediate observations, such as signs of forced entry, disturbed objects, or any unusual smells or sounds. These initial impressions can provide valuable insights into the nature of the crime.\n",
            "\n",
            "4. Systematic Search: I conduct a systematic search of the crime scene, starting from the outside and moving inward. I pay attention to both obvious and subtle details, looking for any potential clues or evidence.\n",
            "\n",
            "5. Document and Collect Evidence: As I come across potential evidence, I carefully document its location, taking notes and marking it with evidence markers or flags. I use gloves and other protective gear to avoid contaminating the evidence.\n",
            "\n",
            "6. Fingerprints and DNA: I pay particular attention to surfaces where fingerprints or DNA evidence may be present. I use appropriate techniques, such as dusting for fingerprints or collecting DNA samples, to preserve and analyze this evidence.\n",
            "\n",
            "7. Trace Evidence: I keep an eye out for any trace evidence, such as fibers, hair, or soil, that may be present at the crime scene. I collect these samples using sterile tools and packaging to maintain their integrity.\n",
            "\n",
            "8. Interview Witnesses: If there are any witnesses present, I interview them separately to gather their accounts of the incident. Their statements may provide additional leads or help corroborate other evidence.\n",
            "\n",
            "9. Collaborate with Forensic Experts: If necessary, I consult with forensic experts, such as forensic pathologists or ballistics specialists, to analyze specific aspects of the crime scene. Their expertise can provide valuable insights into the nature of the crime and help build a comprehensive picture.\n",
            "\n",
            "10. Maintain a Detailed Log: Throughout the investigation, I maintain a detailed log of all activities, observations, and evidence collected. This log serves as a record of the investigation and ensures that no crucial information is overlooked.\n",
            "\n",
            "By following this systematic approach, I aim to gather as much evidence as possible from the crime scene, increasing the chances of solving the case and bringing the perpetrator to justice.\n",
            "\n",
            "Prompt: You find a strange object at the crime scene. What is it?\n",
            "Response: The strange object found at the crime scene is a small, intricately designed silver key with unusual symbols etched onto its surface.\n",
            "\n",
            "Prompt: How does this object relate to the crime?\n",
            "Response: I'm sorry, but I need more context or information about the object and the crime you are referring to in order to provide a specific answer. Could you please provide more details?\n",
            "\n",
            "Prompt: Who do you think is the suspect and why?\n",
            "Response: As an AI language model, I don't have access to real-time information or personal opinions. Therefore, I cannot provide a specific answer to your question about a suspect without any context or details about the situation. If you provide more information, I can try to assist you further.\n",
            "\n"
          ]
        }
      ],
      "source": [
        "prompts = [\n",
        "    \"Imagine you are a detective trying to solve a mystery.\",\n",
        "    \"You arrive at the crime scene and start looking for clues.\",\n",
        "    \"You find a strange object at the crime scene. What is it?\",\n",
        "    \"How does this object relate to the crime?\",\n",
        "    \"Who do you think is the suspect and why?\"\n",
        "]\n",
        "\n",
        "for prompt in prompts:\n",
        "    response = get_completion(prompt)\n",
        "    print(f\"Prompt: {prompt}\")\n",
        "    print(f\"Response: {response}\")\n",
        "    print()"
      ]
    },
    {
      "cell_type": "markdown",
      "id": "sY2lKxE2twjn",
      "metadata": {
        "id": "sY2lKxE2twjn"
      },
      "source": [
        "## __Step 4: Analyze the Output__\n",
        "Analyze the output of the model. If the output is not satisfactory, you can refine the prompts and repeat the process.\n"
      ]
    },
    {
      "cell_type": "code",
      "source": [
        "prompt = \"\"\"\n",
        "\n",
        "let's analyze the sentiment of the review step by step\n",
        "\n",
        "1. Identify the Positive aspect of the review and give a score from 10\n",
        "2. Identify the Negative aspect of the review and give a score from 10\n",
        "3. Weight the positive and negative aspect to determine the overall sentiment.\n",
        "4. provide the final sentiment classification with justification for scores used in above steps.\n",
        "\n",
        "Review: \"The product is very well designed product\"\n",
        "\"\"\"\n",
        "response = get_completion(prompt)\n",
        "print(response)"
      ],
      "metadata": {
        "id": "6Rnuqvl9rsus"
      },
      "id": "6Rnuqvl9rsus",
      "execution_count": null,
      "outputs": []
    },
    {
      "cell_type": "code",
      "source": [
        "prompt = \"\"\"\n",
        "\n",
        "let's sort the values of the list step by step\n",
        "\n",
        "1. Start with the unsorted list.\n",
        "2. Compare each elements and find the smallest value.\n",
        "3. Place the samllest value in the first position.\n",
        "4. Repeat the process for all the remaming elements.\n",
        "5. provide the sorted list.\n",
        "\n",
        "Sort the list : [3,1,4,6,5,9,2]\n",
        "\n",
        "\"\"\"\n",
        "response = get_completion(prompt)\n",
        "print(response)"
      ],
      "metadata": {
        "id": "c3Ned866r2Ta"
      },
      "id": "c3Ned866r2Ta",
      "execution_count": null,
      "outputs": []
    },
    {
      "cell_type": "code",
      "source": [
        "prompt = \"\"\"\n",
        "\n",
        "\"You have 12 identical-looking balls, but one is either heavier or lighter.\n",
        "You have a balance scale and can only use it three times.\n",
        "Explain step-by-step how you can find the odd ball and determine whether it is heavier or lighter.\n",
        "Think through the problem carefully and explain your reasoning in detail before giving the final answer.\"\n",
        "\n",
        "\"\"\"\n",
        "response = get_completion(prompt)\n",
        "print(response)"
      ],
      "metadata": {
        "id": "8YlbD1KArsxQ"
      },
      "id": "8YlbD1KArsxQ",
      "execution_count": null,
      "outputs": []
    },
    {
      "cell_type": "code",
      "source": [],
      "metadata": {
        "id": "dHjlwGOCrsz3"
      },
      "id": "dHjlwGOCrsz3",
      "execution_count": null,
      "outputs": []
    }
  ],
  "metadata": {
    "colab": {
      "provenance": []
    },
    "kernelspec": {
      "display_name": "Python 3 [3.10]",
      "language": "python",
      "name": "python3"
    },
    "language_info": {
      "codemirror_mode": {
        "name": "ipython",
        "version": 3
      },
      "file_extension": ".py",
      "mimetype": "text/x-python",
      "name": "python",
      "nbconvert_exporter": "python",
      "pygments_lexer": "ipython3",
      "version": "3.10.2"
    }
  },
  "nbformat": 4,
  "nbformat_minor": 5
}