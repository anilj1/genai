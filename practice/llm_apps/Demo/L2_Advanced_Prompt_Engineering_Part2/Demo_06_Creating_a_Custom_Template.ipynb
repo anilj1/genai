{
 "cells": [
  {
   "cell_type": "markdown",
   "metadata": {
    "id": "4roy4qsj1HhJ"
   },
   "source": [
    "# __Demo: Creating a Custom Template__\n",
    "\n"
   ]
  },
  {
   "cell_type": "markdown",
   "metadata": {
    "id": "A0r26RT81sh-"
   },
   "source": [
    "## __Steps to Perform__\n",
    "Step 1: Set up the Environment\n",
    "\n",
    "Step 2: Define the Prompt Template\n",
    "\n",
    "Step 3: Create a Custom Prompt Template Class\n",
    "\n"
   ]
  },
  {
   "cell_type": "markdown",
   "metadata": {
    "id": "GUqdXgBuMhqD"
   },
   "source": [
    "### __Step 1: Set up the Environment__\n",
    "\n",
    "- Import required modules such as StringPromptTemplate from the langchain.prompts library and BaseModel and validator from Pydantic library.\n",
    "\n"
   ]
  },
  {
   "cell_type": "code",
   "execution_count": 1,
   "metadata": {
    "id": "6oww_cmmMdB8"
   },
   "outputs": [],
   "source": [
    "from langchain.prompts import StringPromptTemplate\n",
    "from pydantic import BaseModel, validator, ValidationError\n",
    "from typing import List\n",
    "import openai"
   ]
  },
  {
   "cell_type": "markdown",
   "metadata": {
    "id": "1zzdTeHqMMH6"
   },
   "source": [
    "### __Step 2: Define the Prompt Template__\n",
    "- Define a constant string PROMPT that outlines the structure of the prompt to be used for generating book summaries.\n",
    "- Include placeholders for dynamic content like the book title."
   ]
  },
  {
   "cell_type": "code",
   "execution_count": 2,
   "metadata": {
    "id": "XkljrGLl1FNB"
   },
   "outputs": [],
   "source": [
    "PROMPT = \"\"\"\\\n",
    "Given the book title, generate a brief summary of the book.\n",
    "Book Title: {book_title}\n",
    "Summary:\n",
    "\"\"\"\n"
   ]
  },
  {
   "cell_type": "markdown",
   "metadata": {
    "id": "eeWElOXZNCpI"
   },
   "source": [
    "### __Step 3: Create a Custom Prompt Template Class__\n",
    "\n",
    "- The custom class BookSummarizerPrompt is created, which does not inherit from __StringPromptTemplate__ as initially described.\n",
    "- It has a template field of type __StringPromptTemplate__. This class is responsible for integrating the prompt template with dynamic content (the book title) and is built on BaseModel from Pydantic to enable input validation.\n",
    "- The Config class within __BookSummarizerPrompt__ sets __arbitrary_types_allowed = True__, allowing for the inclusion of custom types like __StringPromptTemplate__ as a field in the Pydantic model.\n",
    "- A __create_prompt__ method is implemented to dynamically insert the book title into the prompt template."
   ]
  },
  {
   "cell_type": "markdown",
   "metadata": {},
   "source": [
    "**Pydantic** is a Python library that helps check and organize data. It ensures the data is correct and in the right format, automatically fixing types if needed. It is useful for validating user input, API requests, and managing settings easily. "
   ]
  },
  {
   "cell_type": "code",
   "execution_count": 3,
   "metadata": {
    "id": "PyXjBvyseNJG",
    "outputId": "cb83d157-411d-4657-ead3-70bb2db088f3"
   },
   "outputs": [
    {
     "name": "stdout",
     "output_type": "stream",
     "text": [
      "id=123 name='Alice' email='alice@example.com' age=25 friends=['Raghav', 'Afaque', 'Ankit']\n"
     ]
    }
   ],
   "source": [
    "# let's first understand how Pydantic work\n",
    "# Define a Pydantic model\n",
    "class User(BaseModel):\n",
    "    id: int\n",
    "    name: str\n",
    "    email: str\n",
    "    age: int\n",
    "    friends: List[str] = []\n",
    "\n",
    "# # Valid data\n",
    "data = {\n",
    "    \"id\": 123,\n",
    "    \"name\": \"Alice\",\n",
    "    \"email\": \"alice@example.com\",\n",
    "    \"age\": 25,\n",
    "    \"friends\": [\"Raghav\", \"Afaque\", \"Ankit\"]\n",
    "}\n",
    "\n",
    "# # Instantiate the model with valid data\n",
    "# user = User(**data)\n",
    "# print(user)\n",
    "\n",
    "# Invalid data (age should be an integer)\n",
    "# invalid_data = {\n",
    "#     \"id\": 124,\n",
    "#     \"name\": \"Bob\",\n",
    "#     \"email\": \"bob@example.com\",\n",
    "#     \"age\": \"twenty-five\",  # Invalid age\n",
    "#     \"friends\": [234, 345]\n",
    "# }\n",
    "\n",
    "user = User(**data)\n",
    "print(user)\n",
    "# try:\n",
    "#     invalid_user = User(**invalid_data)\n",
    "# except ValidationError as e:\n",
    "#     print(e.json())\n"
   ]
  },
  {
   "cell_type": "code",
   "execution_count": 9,
   "metadata": {},
   "outputs": [
    {
     "name": "stdout",
     "output_type": "stream",
     "text": [
      "id=124 name='Bob' email='bob@example.com' age=25 friends=['234', '345']\n"
     ]
    }
   ],
   "source": [
    "# Define a Pydantic model\n",
    "class User(BaseModel):\n",
    "    id: int\n",
    "    name: str\n",
    "    email: str\n",
    "    age: int\n",
    "    friends: List[str] = []\n",
    "\n",
    "    class Config:\n",
    "        strict = True\n",
    "# # # Valid data\n",
    "# data = {\n",
    "#     \"id\": 123,\n",
    "#     \"name\": \"Alice\",\n",
    "#     \"email\": \"alice@example.com\",\n",
    "#     \"age\": 25,\n",
    "#     \"friends\": [\"Raghav\", \"Afaque\", \"Ankit\"]\n",
    "# }\n",
    "\n",
    "# # # Instantiate the model with valid data\n",
    "# # user = User(**data)\n",
    "# # print(user)\n",
    "\n",
    "# Invalid data (age should be an integer)\n",
    "invalid_data = {\n",
    "    \"id\": 124,\n",
    "    \"name\": \"Bob\",\n",
    "    \"email\": \"bob@example.com\",\n",
    "    \"age\": 25,  # Invalid age\n",
    "    \"friends\": [234, 345]\n",
    "    # \"friends\": [\"Raghav\", \"Afaque\", \"Ankit\"]\n",
    "}\n",
    "\n",
    "user = User(**invalid_data)\n",
    "print(user)\n",
    "# try:\n",
    "#     invalid_user = User(**invalid_data)\n",
    "# except ValidationError as e:\n",
    "#     print(e.json())\n"
   ]
  },
  {
   "cell_type": "code",
   "execution_count": 5,
   "metadata": {},
   "outputs": [
    {
     "name": "stdout",
     "output_type": "stream",
     "text": [
      "Generated Prompt:\n",
      "\n",
      "Given the book title, generate a brief summary of the book.\n",
      "Book Title: The Great Gatsby\n",
      "Summary:\n",
      "\n",
      "\n",
      "AI Response:\n",
      "\"The Great Gatsby\" follows the story of Jay Gatsby, a wealthy and mysterious man who throws extravagant parties in the hopes of winning back his lost love, Daisy Buchanan. Set in the 1920s, the novel explores themes of love, wealth, and the American Dream, as Gatsby's obsession with the past ultimately leads to tragedy. Through the eyes of narrator Nick Carraway, readers are taken on a journey through the lavish and superficial world of the Jazz Age, where appearances can be deceiving and the pursuit of happiness often leads to destruction.\n"
     ]
    }
   ],
   "source": [
    "\n",
    "class StringPromptTemplate:\n",
    "    def __init__(self, template: str):\n",
    "        self.template = template\n",
    "\n",
    "    def format(self, **kwargs) -> str:\n",
    "        return self.template.format(**kwargs)\n",
    "\n",
    "class BookSummarizerPrompt(BaseModel):\n",
    "    book_title: str\n",
    "    template: StringPromptTemplate\n",
    "\n",
    "    class Config:\n",
    "        arbitrary_types_allowed = True\n",
    "\n",
    "    def create_prompt(self) -> str:\n",
    "        return self.template.format(book_title=self.book_title)\n",
    "\n",
    "# Define the template\n",
    "template = StringPromptTemplate(\n",
    "    \"\"\"\n",
    "Given the book title, generate a brief summary of the book.\n",
    "Book Title: {book_title}\n",
    "Summary:\n",
    "\"\"\"\n",
    ")\n",
    "\n",
    "# Create instance of BookSummarizerPrompt\n",
    "book_summarizer_prompt = BookSummarizerPrompt(book_title=\"The Great Gatsby\", template=template)\n",
    "\n",
    "# Generate prompt\n",
    "formatted_prompt = book_summarizer_prompt.create_prompt()\n",
    "print(\"Generated Prompt:\")\n",
    "print(formatted_prompt)\n",
    "\n",
    "# Define OpenAI completion function\n",
    "def get_completion(prompt: str, model=\"gpt-3.5-turbo\") -> str:\n",
    "    try:\n",
    "        messages = [{\"role\": \"user\", \"content\": prompt}]\n",
    "        \n",
    "        response = openai.ChatCompletion.create(\n",
    "            model=model,\n",
    "            messages=messages,\n",
    "            temperature=0.1,\n",
    "            top_p=0.8,\n",
    "            max_tokens=512\n",
    "        )\n",
    "\n",
    "        return response[\"choices\"][0][\"message\"][\"content\"]\n",
    "\n",
    "    except openai.error.OpenAIError as e:\n",
    "        return f\"OpenAI API Error: {str(e)}\"\n",
    "    except Exception as e:\n",
    "        return f\"Unexpected Error: {str(e)}\"\n",
    "\n",
    "# Get AI-generated summary\n",
    "response = get_completion(formatted_prompt)\n",
    "print(\"\\nAI Response:\")\n",
    "print(response)\n"
   ]
  },
  {
   "cell_type": "code",
   "execution_count": 6,
   "metadata": {},
   "outputs": [
    {
     "name": "stdout",
     "output_type": "stream",
     "text": [
      "Prompt:\n",
      "\n",
      "    Generate a detailed recipe for the following dish:\n",
      "    Recipe Name: Pizza\n",
      "    Ingredients: Refined Flour, eggs, parmesan cheese, Mushrooms, black pepper\n",
      "    Instructions:\n",
      "    \n",
      "AI Response:\n",
      "1. Preheat your oven to 450°F (230°C).\n",
      "\n",
      "2. In a mixing bowl, combine 2 cups of refined flour, 2 eggs, and 1/2 cup of grated parmesan cheese. Mix well until a dough forms.\n",
      "\n",
      "3. On a floured surface, roll out the dough into a round shape, about 1/4 inch thick.\n",
      "\n",
      "4. Transfer the dough to a pizza pan or baking sheet lined with parchment paper.\n",
      "\n",
      "5. Spread a thin layer of tomato sauce over the dough, leaving a small border around the edges.\n",
      "\n",
      "6. Top the pizza with sliced mushrooms and sprinkle with black pepper to taste.\n",
      "\n",
      "7. Bake the pizza in the preheated oven for 15-20 minutes, or until the crust is golden brown and the toppings are cooked.\n",
      "\n",
      "8. Remove the pizza from the oven and let it cool for a few minutes before slicing and serving.\n",
      "\n",
      "9. Enjoy your homemade pizza with a side salad or your favorite toppings!\n"
     ]
    }
   ],
   "source": [
    "# Define a template class to manage dynamic text\n",
    "class RecipePromptTemplate:\n",
    "    def __init__(self, template: str):\n",
    "        self.template = template\n",
    "\n",
    "    def format(self, **kwargs):\n",
    "        return self.template.format(**kwargs)\n",
    "\n",
    "# Define a pydantic model for recipe inputs\n",
    "class RecipeGenerator(BaseModel):\n",
    "    recipe_name: str\n",
    "    ingredients: List[str]\n",
    "    template: RecipePromptTemplate\n",
    "\n",
    "    def create_prompt(self):\n",
    "        # Join ingredients into a single string for the template\n",
    "        ingredients_text = \", \".join(self.ingredients)\n",
    "        return self.template.format(recipe_name=self.recipe_name, ingredients=ingredients_text)\n",
    "\n",
    "    class Config:\n",
    "        arbitrary_types_allowed = True\n",
    "\n",
    "# Define the prompt template\n",
    "recipe_template = RecipePromptTemplate(\n",
    "    \"\"\"\n",
    "    Generate a detailed recipe for the following dish:\n",
    "    Recipe Name: {recipe_name}\n",
    "    Ingredients: {ingredients}\n",
    "    Instructions:\n",
    "    \"\"\"\n",
    ")\n",
    "\n",
    "# Create an instance of the recipe generator\n",
    "recipe_data = {\n",
    "    \"recipe_name\": \"Pizza\",\n",
    "    \"ingredients\": [\"Refined Flour\", \"eggs\", \"parmesan cheese\", \"Mushrooms\", \"black pepper\"],\n",
    "    \"template\": recipe_template,\n",
    "}\n",
    "\n",
    "recipe_generator = RecipeGenerator(**recipe_data)\n",
    "\n",
    "# Generate the prompt\n",
    "prompt = recipe_generator.create_prompt()\n",
    "print(\"Prompt:\")\n",
    "print(prompt)\n",
    "response = get_completion(recipe_generator.create_prompt())\n",
    "print(\"AI Response:\")\n",
    "print(response)"
   ]
  },
  {
   "cell_type": "markdown",
   "metadata": {
    "id": "ZEodx3syeNJH"
   },
   "source": [
    "## __Conclusion__\n",
    "This demo is designed to dynamically generate book summaries and recipies by inserting book titles and ingredients into a structured prompt template.\n",
    "\n",
    "It achieves this through a custom implementation involving a template class for formatting and a Pydantic model for data validation and dynamic content integration, ensuring the output is tailored and accurate."
   ]
  },
  {
   "cell_type": "code",
   "execution_count": null,
   "metadata": {},
   "outputs": [],
   "source": []
  }
 ],
 "metadata": {
  "colab": {
   "provenance": []
  },
  "kernelspec": {
   "display_name": "Python 3 [3.10]",
   "language": "python",
   "name": "python3"
  },
  "language_info": {
   "codemirror_mode": {
    "name": "ipython",
    "version": 3
   },
   "file_extension": ".py",
   "mimetype": "text/x-python",
   "name": "python",
   "nbconvert_exporter": "python",
   "pygments_lexer": "ipython3",
   "version": "3.10.2"
  }
 },
 "nbformat": 4,
 "nbformat_minor": 4
}
