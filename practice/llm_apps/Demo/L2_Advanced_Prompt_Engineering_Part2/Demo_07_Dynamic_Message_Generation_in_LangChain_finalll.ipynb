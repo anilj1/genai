{
 "cells": [
  {
   "cell_type": "markdown",
   "metadata": {
    "id": "29eFJrjL42CO"
   },
   "source": [
    "# __Demo: Dynamic Message Generation in LangChain__\n",
    "\n"
   ]
  },
  {
   "cell_type": "markdown",
   "metadata": {
    "id": "wHO8sgiU1_YL"
   },
   "source": [
    "## __Steps to Perform:__\n",
    "Step 1: Import the Necessary Components\n",
    "\n",
    "Step 2: Define Message Templates\n",
    "\n",
    "Step 3: Create a Chat Prompt with Placeholders\n",
    "\n",
    "Step 4: Define the Conversation Messages\n",
    "\n",
    "Step 5: Generate the Conversation\n",
    "\n",
    "Step 6: Print the Conversation"
   ]
  },
  {
   "cell_type": "markdown",
   "metadata": {
    "id": "3LZHsHfB1ysE"
   },
   "source": [
    "### __Step 1: Import the Necessary Components__\n",
    "- Import classes for creating message prompts and message objects from the Langchain library.\n",
    "\n"
   ]
  },
  {
   "cell_type": "code",
   "execution_count": 1,
   "metadata": {
    "id": "vQORwtsz4FLx"
   },
   "outputs": [],
   "source": [
    "from langchain.prompts import MessagesPlaceholder, HumanMessagePromptTemplate, ChatPromptTemplate\n",
    "from langchain.schema.messages import HumanMessage, AIMessage"
   ]
  },
  {
   "cell_type": "markdown",
   "metadata": {
    "id": "Fjc3Ybmi4GW7"
   },
   "source": [
    "### __Step 2: Define Message Templates__\n",
    "- Define a simple message prompt template with a placeholder for subjects and a more complex human message template for summarization.\n",
    "\n",
    "\n"
   ]
  },
  {
   "cell_type": "code",
   "execution_count": 2,
   "metadata": {
    "id": "V0ipqv9a4N1w"
   },
   "outputs": [],
   "source": [
    "simple_prompt = \"The {subject} is strong in this one.\"\n",
    "\n",
    "human_prompt = \"Summarize our conversation so far in {word_count} words.\"\n"
   ]
  },
  {
   "cell_type": "markdown",
   "metadata": {
    "id": "nPPvAa2S4Oxk"
   },
   "source": [
    "### __Step 3: Create a Chat Prompt with Placeholders__\n",
    "- Create a __ChatPromptTemplate__ that can hold a list of messages and includes both the simple and human message templates.\n",
    "\n"
   ]
  },
  {
   "cell_type": "code",
   "execution_count": 3,
   "metadata": {
    "id": "-KVvR5Ep4XCe"
   },
   "outputs": [],
   "source": [
    "simple_message_template = HumanMessagePromptTemplate.from_template(simple_prompt)\n",
    "human_message_template = HumanMessagePromptTemplate.from_template(human_prompt)\n",
    "\n",
    "chat_prompt = ChatPromptTemplate.from_messages([\n",
    "    MessagesPlaceholder(variable_name=\"conversation\"),\n",
    "    simple_message_template,\n",
    "    human_message_template\n",
    "])"
   ]
  },
  {
   "cell_type": "markdown",
   "metadata": {
    "id": "CRKrasDF4Xuh"
   },
   "source": [
    "### __Step 4: Define the Conversation Messages__\n",
    "- Create instances of __HumanMessage__ and __AIMessage__ to represent the conversation's human and AI parts, respectively.\n",
    "\n",
    "\n",
    "\n"
   ]
  },
  {
   "cell_type": "code",
   "execution_count": 4,
   "metadata": {
    "id": "WBDLlnZ04fDP"
   },
   "outputs": [],
   "source": [
    "human_message = HumanMessage(content=\"What's the best way to learn a new language?\")\n",
    "ai_message = AIMessage(content=\"\"\"\\\n",
    "1. Immerse yourself in the language: Try to use the language in your daily life as much as possible.\n",
    "2. Practice regularly: Consistency is key when learning a new language.\n",
    "3. Use language learning apps: There are many apps that can help you learn a new language in a fun and engaging way.\\\n",
    "\"\"\")\n"
   ]
  },
  {
   "cell_type": "markdown",
   "metadata": {
    "id": "V3xiz-tp4f0Y"
   },
   "source": [
    "### __Step 5: Generate the Conversation__\n",
    "- Use the __chat_prompt.format_prompt__ method to fill in the placeholders for the conversation history, subject, and word count for the summary, and convert the result into a list of message objects.\n",
    "\n"
   ]
  },
  {
   "cell_type": "code",
   "execution_count": 5,
   "metadata": {
    "id": "25zAsLV54m2c"
   },
   "outputs": [],
   "source": [
    "conversation = chat_prompt.format_prompt(\n",
    "    conversation=[human_message, ai_message],\n",
    "    subject=\"Force\",\n",
    "    word_count=\"10\"\n",
    ").to_messages()\n"
   ]
  },
  {
   "cell_type": "markdown",
   "metadata": {
    "id": "jeMkgIVi4nZe"
   },
   "source": [
    "### __Step 6: Print the Conversation__\n",
    "\n",
    "- Iterate over the message objects and print their content to display the dynamic conversation, including the simple message and the summarization request."
   ]
  },
  {
   "cell_type": "code",
   "execution_count": 6,
   "metadata": {
    "colab": {
     "base_uri": "https://localhost:8080/"
    },
    "id": "oJn3VBH64wVY",
    "outputId": "d2e638b5-ccef-46aa-d4e3-7952eb7fcb72"
   },
   "outputs": [
    {
     "name": "stdout",
     "output_type": "stream",
     "text": [
      "What's the best way to learn a new language?\n",
      "1. Immerse yourself in the language: Try to use the language in your daily life as much as possible.\n",
      "2. Practice regularly: Consistency is key when learning a new language.\n",
      "3. Use language learning apps: There are many apps that can help you learn a new language in a fun and engaging way.\n",
      "The Force is strong in this one.\n",
      "Summarize our conversation so far in 10 words.\n"
     ]
    }
   ],
   "source": [
    "for message in conversation:\n",
    "    print(message.content)"
   ]
  },
  {
   "cell_type": "code",
   "execution_count": 7,
   "metadata": {
    "id": "A67a6YNxHm1u"
   },
   "outputs": [],
   "source": [
    "simple_prompt = \"The {subject} is fascinating to study.\"\n",
    "\n",
    "human_prompt = \"Summarize our conversation so far in {word_count} words.\"\n"
   ]
  },
  {
   "cell_type": "code",
   "execution_count": 8,
   "metadata": {
    "id": "vhgG2lf_Hm9C"
   },
   "outputs": [],
   "source": [
    "human_message = HumanMessage(content=\"What's happens inside a black hole\")\n",
    "ai_message = AIMessage(content=\"\"\"\\\n",
    "1. Inside black hole gariivty is zero way.\\\n",
    "\"\"\")\n"
   ]
  },
  {
   "cell_type": "code",
   "execution_count": 9,
   "metadata": {
    "id": "RsoZbZnhHm_5"
   },
   "outputs": [],
   "source": [
    "conversation = chat_prompt.format_prompt(\n",
    "    conversation=[human_message, ai_message],\n",
    "    subject=\"Black Hole\",\n",
    "    word_count=\"10\"\n",
    ").to_messages()\n"
   ]
  },
  {
   "cell_type": "code",
   "execution_count": 10,
   "metadata": {
    "colab": {
     "base_uri": "https://localhost:8080/"
    },
    "id": "07yKsObHHnCd",
    "outputId": "19cb6f6b-671e-4bca-bae2-54536ca8f34e"
   },
   "outputs": [
    {
     "name": "stdout",
     "output_type": "stream",
     "text": [
      "What's happens inside a black hole\n",
      "1. Inside black hole gariivty is zero way.\n",
      "The Black Hole is strong in this one.\n",
      "Summarize our conversation so far in 10 words.\n"
     ]
    }
   ],
   "source": [
    "for message in conversation:\n",
    "    print(message.content)"
   ]
  },
  {
   "cell_type": "code",
   "execution_count": 13,
   "metadata": {
    "id": "w4pzzCqeIBKw"
   },
   "outputs": [
    {
     "name": "stdout",
     "output_type": "stream",
     "text": [
      "Formatted Prompt:\n",
      "Human: The Black Holes is fascinating to study.\n",
      "Human: Summarize our discussion in 30 words.\n",
      "AI Response:\n",
      "Sure! We discussed the fascination of studying black holes, their mysterious nature, and the importance of research in understanding these cosmic phenomena.\n"
     ]
    }
   ],
   "source": [
    "#Example\n",
    "\n",
    "# Step 1: Define the Human and AI message templates\n",
    "# Templates with placeholders for dynamic inputs\n",
    "simple_prompt = \"The {subject} is fascinating to study.\"\n",
    "human_prompt = \"Summarize our discussion in {word_count} words.\"\n",
    "\n",
    "# Create reusable HumanMessagePromptTemplates\n",
    "simple_message_template = HumanMessagePromptTemplate.from_template(simple_prompt)\n",
    "human_message_template = HumanMessagePromptTemplate.from_template(human_prompt)\n",
    "\n",
    "# Combine the templates into a ChatPromptTemplate\n",
    "chat_prompt = ChatPromptTemplate.from_messages([simple_message_template, human_message_template])\n",
    "\n",
    "# Step 2: Define conversation history (human and AI messages)\n",
    "# Always use HumanMessage and AIMessage for proper formatting\n",
    "human_message = HumanMessage(content=\"What happens inside a black hole?\")\n",
    "ai_message = AIMessage(content=\"\"\"\n",
    "Inside a black hole, gravity is so strong that nothing, not even light, can escape.\n",
    "The core collapses into a singularity, where physics as we know it breaks down.\n",
    "\"\"\")\n",
    "\n",
    "# Step 3: Format the prompt dynamically\n",
    "# Provide dynamic inputs to the placeholders\n",
    "formatted_prompt = chat_prompt.format_prompt(\n",
    "    conversation=[human_message, ai_message],  # Conversation history\n",
    "    subject=\"Black Holes\",                     # Dynamic placeholder for 'subject'\n",
    "    word_count=\"30\"                            # Dynamic placeholder for 'word_count'\n",
    ")\n",
    "\n",
    "# Convert the formatted prompt to a string to send to the LLM\n",
    "prompt_string = formatted_prompt.to_string()\n",
    "print(\"Formatted Prompt:\")\n",
    "print(prompt_string)\n",
    "\n",
    "# Step 4: Define OpenAI Completion Function\n",
    "def get_completion(prompt, model=\"gpt-3.5-turbo\"):\n",
    "    try:\n",
    "        messages = [\n",
    "            {\"role\": \"system\", \"content\": \"You are a helpful assistant.\"},\n",
    "            {\"role\": \"user\", \"content\": prompt}\n",
    "        ]\n",
    "        \n",
    "        response = openai.ChatCompletion.create(\n",
    "            model=model,\n",
    "            messages=messages,\n",
    "            temperature=0.7,\n",
    "            max_tokens=150\n",
    "        )\n",
    "\n",
    "        return response[\"choices\"][0][\"message\"][\"content\"]\n",
    "\n",
    "    except openai.error.OpenAIError as e:\n",
    "        return f\"OpenAI API Error: {str(e)}\"\n",
    "    except Exception as e:\n",
    "        return f\"Unexpected Error: {str(e)}\"\n",
    "    \n",
    "response = get_completion(prompt_string)\n",
    "print(\"AI Response:\")\n",
    "print(response)\n"
   ]
  },
  {
   "cell_type": "markdown",
   "metadata": {
    "id": "gUArHvquj2pF"
   },
   "source": [
    "## __Conclusion__\n",
    "This code demonstrates an innovative approach to automating conversation creation, leveraging LangChain's capabilities to integrate predefined templates and dynamically generate context-adaptive dialogues.\n",
    "\n",
    "This method simplifies the process of constructing complex conversations, showcasing the potential for creating flexible, responsive interactions in applications that require nuanced communication.\n",
    "\n",
    "\n",
    "\n",
    "\n"
   ]
  },
  {
   "cell_type": "code",
   "execution_count": null,
   "metadata": {},
   "outputs": [],
   "source": []
  }
 ],
 "metadata": {
  "colab": {
   "provenance": []
  },
  "kernelspec": {
   "display_name": "Python 3 [3.10]",
   "language": "python",
   "name": "python3"
  },
  "language_info": {
   "codemirror_mode": {
    "name": "ipython",
    "version": 3
   },
   "file_extension": ".py",
   "mimetype": "text/x-python",
   "name": "python",
   "nbconvert_exporter": "python",
   "pygments_lexer": "ipython3",
   "version": "3.10.2"
  }
 },
 "nbformat": 4,
 "nbformat_minor": 4
}
